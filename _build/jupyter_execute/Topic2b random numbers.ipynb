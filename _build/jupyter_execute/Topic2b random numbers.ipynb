{
 "cells": [
  {
   "cell_type": "markdown",
   "metadata": {},
   "source": [
    "## Mathematical Operations in Numpy "
   ]
  },
  {
   "cell_type": "markdown",
   "metadata": {},
   "source": [
    "Numpy has a lot of built in flexibility when it comes to doing math.  The most obvious thing you might want to do is to treat numpy arrays as matrixes or vectors, depending on the circumstance.  The recommend way to do this is to use the functions that specify vector multiplication: "
   ]
  },
  {
   "cell_type": "code",
   "execution_count": 1,
   "metadata": {},
   "outputs": [],
   "source": [
    "import numpy as np"
   ]
  },
  {
   "cell_type": "code",
   "execution_count": 2,
   "metadata": {},
   "outputs": [],
   "source": [
    "A = np.linspace(1,9,9)\n",
    "B=A.reshape((3,3))"
   ]
  },
  {
   "cell_type": "code",
   "execution_count": 3,
   "metadata": {},
   "outputs": [
    {
     "name": "stdout",
     "output_type": "stream",
     "text": [
      "[[1. 2. 3.]\n",
      " [4. 5. 6.]\n",
      " [7. 8. 9.]]\n",
      "[[ 1.  4.  9.]\n",
      " [16. 25. 36.]\n",
      " [49. 64. 81.]]\n"
     ]
    }
   ],
   "source": [
    "print(B)\n",
    "print(B*B) # elementwise multiplication"
   ]
  },
  {
   "cell_type": "code",
   "execution_count": 4,
   "metadata": {},
   "outputs": [
    {
     "name": "stdout",
     "output_type": "stream",
     "text": [
      "[[ 30.  36.  42.]\n",
      " [ 66.  81.  96.]\n",
      " [102. 126. 150.]]\n"
     ]
    }
   ],
   "source": [
    "print(np.dot(B,B)) #matix multiplication"
   ]
  },
  {
   "cell_type": "code",
   "execution_count": 5,
   "metadata": {},
   "outputs": [
    {
     "name": "stdout",
     "output_type": "stream",
     "text": [
      "285.0\n"
     ]
    }
   ],
   "source": [
    "print(np.dot(A,A)) # vector dot product"
   ]
  },
  {
   "cell_type": "code",
   "execution_count": 6,
   "metadata": {},
   "outputs": [
    {
     "name": "stdout",
     "output_type": "stream",
     "text": [
      "[30. 36. 42.]\n"
     ]
    }
   ],
   "source": [
    "print(np.dot(np.array((1,2,3)),B)) # left multiplication"
   ]
  },
  {
   "cell_type": "code",
   "execution_count": 7,
   "metadata": {},
   "outputs": [
    {
     "name": "stdout",
     "output_type": "stream",
     "text": [
      "[14. 32. 50.]\n"
     ]
    }
   ],
   "source": [
    "print(np.dot(B,np.array((1,2,3)))) # right multiplication"
   ]
  },
  {
   "cell_type": "code",
   "execution_count": 8,
   "metadata": {},
   "outputs": [],
   "source": [
    "C=B+np.identity(3) # matrix addition acts as usual"
   ]
  },
  {
   "cell_type": "markdown",
   "metadata": {},
   "source": [
    "print C\n",
    "print np.linalg.inv(C) # matrix inverse"
   ]
  },
  {
   "cell_type": "code",
   "execution_count": 9,
   "metadata": {},
   "outputs": [
    {
     "data": {
      "text/plain": [
       "array([[ 1.00000000e+00, -2.22044605e-16,  4.44089210e-16],\n",
       "       [-1.77635684e-15,  1.00000000e+00,  8.88178420e-16],\n",
       "       [-1.77635684e-15,  4.44089210e-16,  1.00000000e+00]])"
      ]
     },
     "execution_count": 9,
     "metadata": {},
     "output_type": "execute_result"
    }
   ],
   "source": [
    "np.dot(C,np.linalg.inv(C))"
   ]
  },
  {
   "cell_type": "markdown",
   "metadata": {},
   "source": [
    "## Random Numbers"
   ]
  },
  {
   "cell_type": "markdown",
   "metadata": {},
   "source": [
    "Generating random numbers is an extremely useful tool in scientific computing.  We will see some applications in a second, but first let's just get the syntax.  "
   ]
  },
  {
   "cell_type": "markdown",
   "metadata": {},
   "source": [
    "The first thing you might want is a random number drawn from a uniform probability between 0 and 1"
   ]
  },
  {
   "cell_type": "code",
   "execution_count": 10,
   "metadata": {},
   "outputs": [
    {
     "data": {
      "text/plain": [
       "0.7099557715412014"
      ]
     },
     "execution_count": 10,
     "metadata": {},
     "output_type": "execute_result"
    }
   ],
   "source": [
    "np.random.rand()"
   ]
  },
  {
   "cell_type": "markdown",
   "metadata": {},
   "source": [
    "This function actually will give you a bunch of random numbers in any shape "
   ]
  },
  {
   "cell_type": "code",
   "execution_count": 11,
   "metadata": {},
   "outputs": [
    {
     "data": {
      "text/plain": [
       "array([0.72844989, 0.5112383 , 0.19721389, 0.76718334, 0.69919687,\n",
       "       0.29377512, 0.94339583, 0.89092532, 0.70676443, 0.66670244])"
      ]
     },
     "execution_count": 11,
     "metadata": {},
     "output_type": "execute_result"
    }
   ],
   "source": [
    "np.random.rand(10)"
   ]
  },
  {
   "cell_type": "code",
   "execution_count": 12,
   "metadata": {},
   "outputs": [
    {
     "data": {
      "text/plain": [
       "array([[[0.03688014, 0.3900977 ],\n",
       "        [0.56820155, 0.7810396 ]],\n",
       "\n",
       "       [[0.38239218, 0.9787251 ],\n",
       "        [0.02271814, 0.77996865]]])"
      ]
     },
     "execution_count": 12,
     "metadata": {},
     "output_type": "execute_result"
    }
   ],
   "source": [
    "np.random.rand(2,2,2)"
   ]
  },
  {
   "cell_type": "markdown",
   "metadata": {},
   "source": [
    "Given such a distribution, we can make our own function to cover any uniform distibution:"
   ]
  },
  {
   "cell_type": "code",
   "execution_count": 13,
   "metadata": {},
   "outputs": [],
   "source": [
    "def my_uniform(low,high,number):\n",
    "    out=np.random.rand(number)\n",
    "    out*=(high-low)\n",
    "    out+=low\n",
    "    return out"
   ]
  },
  {
   "cell_type": "code",
   "execution_count": 14,
   "metadata": {},
   "outputs": [
    {
     "data": {
      "text/plain": [
       "array([10.90635058, 10.36146481, 10.33039334, 10.09745696, 10.61195888,\n",
       "       10.62021944, 10.78700656, 10.94017723, 10.70910853, 10.41986845,\n",
       "       10.58866931, 10.01443348, 10.1714678 , 10.65912109, 10.09507971,\n",
       "       10.25792035, 10.33033563, 10.89763005, 10.0575303 , 10.17597954])"
      ]
     },
     "execution_count": 14,
     "metadata": {},
     "output_type": "execute_result"
    }
   ],
   "source": [
    "my_uniform(10,11,20)"
   ]
  },
  {
   "cell_type": "code",
   "execution_count": 15,
   "metadata": {},
   "outputs": [
    {
     "data": {
      "text/plain": [
       "array([ 86.30599657,  80.28996454,  85.39316253, -87.5822706 ,\n",
       "        80.57017804,  23.13859408,   3.63947367,  12.87735247,\n",
       "        46.82507386,  12.51632526,  48.12289436, -66.72002833,\n",
       "        49.54079476, -74.12779471, -45.85649854, -41.59603901,\n",
       "       -99.74255047, -82.83864149, -14.08901691,  66.94560748])"
      ]
     },
     "execution_count": 15,
     "metadata": {},
     "output_type": "execute_result"
    }
   ],
   "source": [
    "my_uniform(-102.3,99.2,20)"
   ]
  },
  {
   "cell_type": "markdown",
   "metadata": {},
   "source": [
    "naturally, numpy has its own version of this function"
   ]
  },
  {
   "cell_type": "code",
   "execution_count": 16,
   "metadata": {},
   "outputs": [
    {
     "data": {
      "text/plain": [
       "array([  46.87360467,  -72.86713679,  -69.8604963 ,  -11.05670687,\n",
       "         23.48852046,  -43.9305738 ,   25.27747602, -101.80963896,\n",
       "        -42.96781413,   38.07327538,  -88.21816104,  -22.32602292,\n",
       "         98.92044005,   74.05039586,   27.26569475,  -68.5706339 ,\n",
       "         13.28535481,   15.30000551,   29.79385587,    6.33637366])"
      ]
     },
     "execution_count": 16,
     "metadata": {},
     "output_type": "execute_result"
    }
   ],
   "source": [
    "np.random.uniform(-102.3,99.2,20)"
   ]
  },
  {
   "cell_type": "markdown",
   "metadata": {},
   "source": [
    "However, it is important to realize that once you have a source of random numbers, you can mold it to do other things you want"
   ]
  },
  {
   "cell_type": "markdown",
   "metadata": {},
   "source": [
    "The other common kind of random number you will want is one drawn from a normal distibution.  This means the probability (density) of drawing the number x is $P(x) = e^{-(x-\\mu)^2/2\\sigma^2}/\\sqrt{2\\pi \\sigma^2}$.  The number $\\mu$ is called the mean and $\\sigma$ is the variance. "
   ]
  },
  {
   "cell_type": "markdown",
   "metadata": {},
   "source": [
    "Python has a nice way of generating numbers with $\\mu =0$ and $\\sigma=1$:"
   ]
  },
  {
   "cell_type": "code",
   "execution_count": 17,
   "metadata": {},
   "outputs": [
    {
     "data": {
      "text/plain": [
       "array([ 1.07209064, -1.38118651, -0.10082824,  0.06746019,  0.63275655,\n",
       "        0.40965267, -1.43600017,  1.00472076, -0.26174   ,  0.37308029])"
      ]
     },
     "execution_count": 17,
     "metadata": {},
     "output_type": "execute_result"
    }
   ],
   "source": [
    "np.random.randn(10)"
   ]
  },
  {
   "cell_type": "markdown",
   "metadata": {},
   "source": [
    "Let's make a histogram to see what this is doing:"
   ]
  },
  {
   "cell_type": "code",
   "execution_count": 18,
   "metadata": {},
   "outputs": [],
   "source": [
    "import matplotlib.pyplot as plt"
   ]
  },
  {
   "cell_type": "code",
   "execution_count": 19,
   "metadata": {},
   "outputs": [
    {
     "data": {
      "image/png": "[encoded data removed]",
      "text/plain": [
       "<Figure size 432x288 with 1 Axes>"
      ]
     },
     "metadata": {
      "filenames": {
       "image/png": "/Users/drgreen/Google Drive/IPy/Physics39_book/_build/jupyter_execute/Topic2b random numbers_31_0.png"
      },
      "needs_background": "light"
     },
     "output_type": "display_data"
    }
   ],
   "source": [
    "plt.hist(np.random.randn(1000000),bins=np.linspace(-3,3,1000))\n",
    "plt.show()"
   ]
  },
  {
   "cell_type": "code",
   "execution_count": 20,
   "metadata": {},
   "outputs": [
    {
     "data": {
      "text/plain": [
       "array([2, 0, 0, 2, 1, 2, 1, 0, 0, 1, 2, 1, 0, 2, 2, 2, 2, 2, 0, 1, 0, 0,\n",
       "       2, 1, 2, 2, 1, 2, 1, 0, 2, 1, 1, 2, 1, 2, 1, 1, 2, 0, 1, 2, 2, 1,\n",
       "       2, 2, 0, 0, 2, 0, 0, 2, 1, 2, 1, 1, 1, 2, 1, 2, 0, 1, 0, 0, 1, 1,\n",
       "       1, 2, 1, 0, 0, 2, 2, 0, 1, 2, 2, 1, 2, 0, 2, 0, 1, 0, 1, 1, 0, 2,\n",
       "       0, 0, 1, 2, 2, 2, 2, 2, 1, 0, 0, 1])"
      ]
     },
     "execution_count": 20,
     "metadata": {},
     "output_type": "execute_result"
    }
   ],
   "source": [
    "np.random.randint(3,size=100)"
   ]
  },
  {
   "cell_type": "code",
   "execution_count": 21,
   "metadata": {},
   "outputs": [
    {
     "data": {
      "text/plain": [
       "5"
      ]
     },
     "execution_count": 21,
     "metadata": {},
     "output_type": "execute_result"
    }
   ],
   "source": [
    "np.random.randint(2,size=10).sum()"
   ]
  },
  {
   "cell_type": "code",
   "execution_count": 22,
   "metadata": {},
   "outputs": [],
   "source": [
    "number_of_flips=10\n",
    "number_of_trails=1000\n",
    "results=np.zeros(number_of_trails)\n",
    "for i in range(number_of_trails):\n",
    "    results[i]=np.random.randint(2,size=number_of_flips).sum()/float(number_of_flips)"
   ]
  },
  {
   "cell_type": "code",
   "execution_count": 23,
   "metadata": {},
   "outputs": [
    {
     "data": {
      "image/png": "[encoded data removed]",
      "text/plain": [
       "<Figure size 432x288 with 1 Axes>"
      ]
     },
     "metadata": {
      "filenames": {
       "image/png": "/Users/drgreen/Google Drive/IPy/Physics39_book/_build/jupyter_execute/Topic2b random numbers_35_0.png"
      },
      "needs_background": "light"
     },
     "output_type": "display_data"
    }
   ],
   "source": [
    "plt.hist(results,bins=np.linspace(0,1,10))\n",
    "plt.show()"
   ]
  },
  {
   "cell_type": "markdown",
   "metadata": {},
   "source": [
    "## Demonstration: calculating $\\pi$"
   ]
  },
  {
   "cell_type": "markdown",
   "metadata": {},
   "source": [
    "To get a quick sense of why this is useful, we can demonstrate how we can calculate $\\pi$ using what we have just learned.  This will actually serve as an important example of a much broader and more powerful set of techniques later in the course, but for now it is just to give you a taste of how these things can work for you."
   ]
  },
  {
   "cell_type": "markdown",
   "metadata": {},
   "source": [
    "The idea is the following: image you pick a point randomly inside a square of length 2 on each side.  The area of this square is 4.  I circle placed within the square with radius 1 has area $\\pi$.  If a random draw numbers that land inside the square with a uniform probability, then $\\pi/4$ of them (on average) should also be inside the circle.  Said different, after picking a point in the square, we ask if it is also in the circle and keep track.  At the end we take number in circle / total we have caculated $\\pi/4$"
   ]
  },
  {
   "cell_type": "code",
   "execution_count": 24,
   "metadata": {},
   "outputs": [],
   "source": [
    "def pi_calculator(N):\n",
    "    x=np.random.uniform(-1,1,N)  # make a list of N random numbers of x-axis of box\n",
    "    y=np.random.uniform(-1,1,N) # make a list of N random numbers of y-axis of box\n",
    "    z=(x**2+y**2<1) # make a list of every time x^2 + y^2 < 1 (inside the cicle)\n",
    "    return z.sum()/float(N)*4 # add all the points in the circle up and return 4*cicle/N"
   ]
  },
  {
   "cell_type": "code",
   "execution_count": 25,
   "metadata": {},
   "outputs": [
    {
     "data": {
      "text/plain": [
       "3.1418152"
      ]
     },
     "execution_count": 25,
     "metadata": {},
     "output_type": "execute_result"
    }
   ],
   "source": [
    "pi_calculator(10**7)"
   ]
  },
  {
   "cell_type": "code",
   "execution_count": 26,
   "metadata": {},
   "outputs": [
    {
     "data": {
      "text/plain": [
       "3.14151132"
      ]
     },
     "execution_count": 26,
     "metadata": {},
     "output_type": "execute_result"
    }
   ],
   "source": [
    "pi_calculator(10**8)"
   ]
  },
  {
   "cell_type": "code",
   "execution_count": 27,
   "metadata": {},
   "outputs": [],
   "source": [
    "pi_calculator(10**9)"
   ]
  },
  {
   "cell_type": "code",
   "execution_count": 39,
   "metadata": {},
   "outputs": [],
   "source": [
    "x=np.random.uniform(-1,1,5)\n",
    "y=np.random.uniform(-1,1,5)\n",
    "z=(x**2+y**2<1)"
   ]
  },
  {
   "cell_type": "code",
   "execution_count": 43,
   "metadata": {},
   "outputs": [
    {
     "name": "stdout",
     "output_type": "stream",
     "text": [
      "[-0.46261577  0.93124438  0.74169432  0.45117097  0.1718111 ] [ 0.89592606  0.11286007 -0.40097035  0.9466685  -0.91434233]\n",
      "[1.01669686 0.87995349 0.71088768 1.09973649 0.86554094]\n",
      "[False  True  True False  True]\n"
     ]
    }
   ],
   "source": [
    "print(x,y)\n",
    "print(x**2+y**2)\n",
    "print(z)"
   ]
  },
  {
   "cell_type": "code",
   "execution_count": 44,
   "metadata": {},
   "outputs": [
    {
     "data": {
      "text/plain": [
       "3"
      ]
     },
     "execution_count": 44,
     "metadata": {},
     "output_type": "execute_result"
    }
   ],
   "source": [
    "z.sum()"
   ]
  },
  {
   "cell_type": "markdown",
   "metadata": {},
   "source": [
    "To see how this is working, let's write a slower version to see the steps"
   ]
  },
  {
   "cell_type": "code",
   "execution_count": 45,
   "metadata": {},
   "outputs": [],
   "source": [
    "def pi_slow(N):\n",
    "    circle=0\n",
    "    for i in range(N):\n",
    "        x=np.random.uniform(-1,1,1)  # pick a x coordinate in the box\n",
    "        y=np.random.uniform(-1,1,1) # pick a y coordinate in the box\n",
    "        if x**2+y**2<1: # make a list of every time x^2 + y^2 < 1 (inside the cicle)\n",
    "            circle+=1 \n",
    "    return 4*circle/N # add all the points in the circle up and return 4*cicle/N"
   ]
  },
  {
   "cell_type": "code",
   "execution_count": 46,
   "metadata": {},
   "outputs": [
    {
     "data": {
      "text/plain": [
       "3.14284"
      ]
     },
     "execution_count": 46,
     "metadata": {},
     "output_type": "execute_result"
    }
   ],
   "source": [
    "pi_slow(10**6)"
   ]
  },
  {
   "cell_type": "code",
   "execution_count": 47,
   "metadata": {},
   "outputs": [
    {
     "data": {
      "text/plain": [
       "3.14165004"
      ]
     },
     "execution_count": 47,
     "metadata": {},
     "output_type": "execute_result"
    }
   ],
   "source": [
    "pi_calculator(10**8)"
   ]
  },
  {
   "cell_type": "markdown",
   "metadata": {},
   "source": [
    "The slow implementation makes it clear what we are doing, but it clearly takes much longer."
   ]
  },
  {
   "cell_type": "code",
   "execution_count": 48,
   "metadata": {},
   "outputs": [],
   "source": [
    "import time"
   ]
  },
  {
   "cell_type": "code",
   "execution_count": 50,
   "metadata": {},
   "outputs": [
    {
     "name": "stdout",
     "output_type": "stream",
     "text": [
      "9.319647073745728\n"
     ]
    }
   ],
   "source": [
    "t1 = time.time()\n",
    "pi_slow(1000000)\n",
    "print(time.time() - t1)"
   ]
  },
  {
   "cell_type": "code",
   "execution_count": 51,
   "metadata": {},
   "outputs": [
    {
     "name": "stdout",
     "output_type": "stream",
     "text": [
      "0.0646061897277832\n"
     ]
    }
   ],
   "source": [
    "t1 = time.time()\n",
    "pi_calculator(1000000)\n",
    "print(time.time() - t1)"
   ]
  },
  {
   "cell_type": "markdown",
   "metadata": {},
   "source": [
    "Anticipating something we will discuss later, now let's see how our error in the measurement of pi scales with the number of random points we pick"
   ]
  },
  {
   "cell_type": "code",
   "execution_count": 52,
   "metadata": {},
   "outputs": [],
   "source": [
    "short=int(10**6)\n",
    "medium=int(10**7)\n",
    "Long=int(10**(8))\n",
    "trials=100\n",
    "pi_list_short=np.zeros(trials)\n",
    "pi_list_medium=np.zeros(trials)\n",
    "pi_list_Long=np.zeros(trials)\n",
    "for i in range(trials):\n",
    "    pi_list_short[i]=pi_calculator(short)\n",
    "    pi_list_medium[i]=pi_calculator(medium)\n",
    "    pi_list_Long[i]=pi_calculator(Long)"
   ]
  },
  {
   "cell_type": "code",
   "execution_count": 58,
   "metadata": {},
   "outputs": [
    {
     "data": {
      "image/png": "[encoded data removed]",
      "text/plain": [
       "<Figure size 432x288 with 1 Axes>"
      ]
     },
     "metadata": {
      "filenames": {
       "image/png": "/Users/drgreen/Google Drive/IPy/Physics39_book/_build/jupyter_execute/Topic2b random numbers_56_0.png"
      },
      "needs_background": "light"
     },
     "output_type": "display_data"
    }
   ],
   "source": [
    "fig, ax = plt.subplots()\n",
    "p1=ax.hist(pi_list_short,bins=np.linspace(3.13,3.15,100),label='$10^6$')\n",
    "p2=ax.hist(pi_list_medium,bins=np.linspace(3.13,3.15,100),label='$10^7$')\n",
    "p3=ax.hist(pi_list_Long,bins=np.linspace(3.13,3.15,100),label='$10^8$')\n",
    "ax.plot([np.pi,np.pi],[0,40])\n",
    "plt.ylim(0,40)\n",
    "plt.xlim(3.1375,3.145)\n",
    "leg = ax.legend()\n",
    "plt.show()"
   ]
  },
  {
   "cell_type": "markdown",
   "metadata": {},
   "source": [
    "By eye, it looks like the blue is a approximately 10 times wider than the green.  This would make sense if the error on the value of $\\pi$ decreased by $1/\\sqrt{N}$ where $N$ is the number of random points used in the calculation.  This is indeed what is going on and is a much more general fact about random numbers."
   ]
  },
  {
   "cell_type": "markdown",
   "metadata": {},
   "source": [
    "### Summary"
   ]
  },
  {
   "cell_type": "markdown",
   "metadata": {},
   "source": [
    "Numpy has a number of basic math operations we will make a lot of use off.  Random numbers are a particularly valuable tool that is employed in all areas of science and engineering.  E.g. simulating the behavior of any measurement involves adding random numbers to you signal.  We can always use the output of the random number library to create the type of noise we want for a given application.  "
   ]
  },
  {
   "cell_type": "code",
   "execution_count": null,
   "metadata": {},
   "outputs": [],
   "source": []
  }
 ],
 "metadata": {
  "kernelspec": {
   "display_name": "Python 3 (ipykernel)",
   "language": "python",
   "name": "python3"
  },
  "language_info": {
   "codemirror_mode": {
    "name": "ipython",
    "version": 3
   },
   "file_extension": ".py",
   "mimetype": "text/x-python",
   "name": "python",
   "nbconvert_exporter": "python",
   "pygments_lexer": "ipython3",
   "version": "3.9.7"
  }
 },
 "nbformat": 4,
 "nbformat_minor": 2
}