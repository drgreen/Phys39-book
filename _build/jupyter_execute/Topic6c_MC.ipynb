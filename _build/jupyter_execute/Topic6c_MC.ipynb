{
 "cells": [
  {
   "cell_type": "markdown",
   "metadata": {},
   "source": [
    "# Topic 6c: Monte Carlo Methods"
   ]
  },
  {
   "cell_type": "code",
   "execution_count": 1,
   "metadata": {},
   "outputs": [],
   "source": [
    "import math\n",
    "import random\n",
    "import numpy as np\n",
    "import matplotlib.pyplot as plt\n",
    "from scipy.special import gamma, rgamma\n",
    "from scipy import integrate"
   ]
  },
  {
   "cell_type": "markdown",
   "metadata": {},
   "source": [
    "## Monte Carlo Integration"
   ]
  },
  {
   "cell_type": "markdown",
   "metadata": {},
   "source": [
    "The problem of dealing with high dimensional spaces is common to all kinds of situations, from machine learning to basic integration. We haven't encountered this problem directly so far because we have been using small numbers of parameters.  In discussing Bayesian inference, we were mostly talking about 1 ro 2 parameters at a time. But we saw in the case of solve differential equations with machine learning how quickly the number of parameters would grow. Our intuition for how do deal with such high dimensional spaces is generally quite bad.\n",
    "\n",
    "Recall that one task we might want to perform on in this parameter space is integration.  Concretely, I need to integrate over some parameters to marginalize over their uncertainty.  While easy to state, numerically integrating in high dimensional spaces is very difficult and is a window in the broader challenges one can encounter.  "
   ]
  },
  {
   "cell_type": "markdown",
   "metadata": {},
   "source": [
    "To see the problem, let's remember that the volume of a d-dimensional ball of radius 1 is \n",
    "$$ V_d = \\frac{\\pi^{d/2}}{ \\Gamma[\\frac{d}{2}+1]}$$\n",
    "However, if we stick this sphere inside a d-dimensional box where the sphere touches the edges, so that each length of the box is the diameter, 2, then the volume of the enclosing box is $2^d$"
   ]
  },
  {
   "cell_type": "code",
   "execution_count": 2,
   "metadata": {},
   "outputs": [
    {
     "data": {
      "image/png": "[encoded data removed]",
      "text/plain": [
       "<Figure size 432x288 with 1 Axes>"
      ]
     },
     "metadata": {
      "filenames": {
       "image/png": "/Users/drgreen/Google Drive/IPy/Physics39_book/_build/jupyter_execute/Topic6c_MC_5_0.png"
      },
      "needs_background": "light"
     },
     "output_type": "display_data"
    }
   ],
   "source": [
    "dlist=np.arange(100)\n",
    "plt.plot(dlist,np.pi**(dlist/2.)/gamma(dlist/2.+1.))\n",
    "plt.plot(dlist,2.**(dlist))\n",
    "plt.yscale('log')"
   ]
  },
  {
   "cell_type": "code",
   "execution_count": 3,
   "metadata": {},
   "outputs": [],
   "source": [
    "def V_ratio(d):\n",
    "    return np.pi**(d/2.)/(2**(d)*gamma(d/2.+1.))"
   ]
  },
  {
   "cell_type": "code",
   "execution_count": 4,
   "metadata": {},
   "outputs": [
    {
     "name": "stdout",
     "output_type": "stream",
     "text": [
      "0.5235987755982989 0.00249039457019272 2.461136950494199e-08 1.8681820538375912e-70\n"
     ]
    }
   ],
   "source": [
    "print(V_ratio(3),V_ratio(10),V_ratio(20),V_ratio(100))"
   ]
  },
  {
   "cell_type": "markdown",
   "metadata": {},
   "source": [
    "In short, by the time you reach 100 dimensional space, the fraction of the volume taken up by our sphere is 10**(-70) of th total volume. "
   ]
  },
  {
   "cell_type": "markdown",
   "metadata": {},
   "source": [
    "So now imagine I have a function that falls off like an exponential of the distance from the origin.  The support of this function is going to be limited to a tiny fraction of the volume.  So if I am trying to integrate this function, if I put it inside a d-dimensional grid and integrate as usual, I am going to spend all my time adding up exponentially small terms and I will miss the region where the integrand gets it support."
   ]
  },
  {
   "cell_type": "markdown",
   "metadata": {},
   "source": [
    "To see this, let's imagein trying to determine the volume of the 4-sphere using nquad integration"
   ]
  },
  {
   "cell_type": "code",
   "execution_count": 5,
   "metadata": {},
   "outputs": [],
   "source": [
    "def S2(x1,x2):\n",
    "    out=0\n",
    "    if (x1**2+x2**2)<=1.:\n",
    "        out=1.\n",
    "    return out\n",
    "def S3(x1,x2,x3):\n",
    "    out=0\n",
    "    if (x1**2+x2**2+x3**2)<=1.:\n",
    "        out=1.\n",
    "    return out"
   ]
  },
  {
   "cell_type": "code",
   "execution_count": 6,
   "metadata": {},
   "outputs": [
    {
     "data": {
      "text/plain": [
       "(0.5, 5.551115123125783e-15)"
      ]
     },
     "execution_count": 6,
     "metadata": {},
     "output_type": "execute_result"
    }
   ],
   "source": [
    "integrate.nquad(lambda x: x,[[0,1]])"
   ]
  },
  {
   "cell_type": "code",
   "execution_count": 7,
   "metadata": {},
   "outputs": [
    {
     "name": "stderr",
     "output_type": "stream",
     "text": [
      "/opt/anaconda3/lib/python3.9/site-packages/scipy/integrate/quadpack.py:879: IntegrationWarning: The maximum number of subdivisions (50) has been achieved.\n",
      "  If increasing the limit yields no improvement it is advised to analyze \n",
      "  the integrand in order to determine the difficulties.  If the position of a \n",
      "  local difficulty can be determined (singularity, discontinuity) one will \n",
      "  probably gain from splitting up the interval and calling the integrator \n",
      "  on the subranges.  Perhaps a special-purpose integrator should be used.\n",
      "  quad_r = quad(f, low, high, args=args, full_output=self.full_output,\n"
     ]
    },
    {
     "data": {
      "text/plain": [
       "(3.1421278363209537, 0.0002045333175209052)"
      ]
     },
     "execution_count": 7,
     "metadata": {},
     "output_type": "execute_result"
    }
   ],
   "source": [
    "integrate.nquad(S2,[[-1,1],[-1,1]])"
   ]
  },
  {
   "cell_type": "code",
   "execution_count": 8,
   "metadata": {},
   "outputs": [
    {
     "data": {
      "text/plain": [
       "(3.1421278363209537, 0.0002045333175209052)"
      ]
     },
     "execution_count": 8,
     "metadata": {},
     "output_type": "execute_result"
    }
   ],
   "source": [
    "integrate.dblquad(S2,-1,1,lambda x:-1,lambda x:1)"
   ]
  },
  {
   "cell_type": "markdown",
   "metadata": {},
   "source": [
    "This is already quite slow.  This is in part because of how we defined the function, so instead lets try using a built in numpy function that might work faster.  So let's look some simple integrals as a function of dimension:  "
   ]
  },
  {
   "cell_type": "code",
   "execution_count": 9,
   "metadata": {},
   "outputs": [
    {
     "data": {
      "text/plain": [
       "(4.977294701166025, 5.5259071775793096e-14)"
      ]
     },
     "execution_count": 9,
     "metadata": {},
     "output_type": "execute_result"
    }
   ],
   "source": [
    "integrate.nquad(lambda x,y,z,a:np.exp(-x**2-y**2-z**2-a**2),[[-1,1],[-1,1],[-1,1],[-1,1]])"
   ]
  },
  {
   "cell_type": "code",
   "execution_count": 10,
   "metadata": {},
   "outputs": [],
   "source": [
    "import time"
   ]
  },
  {
   "cell_type": "code",
   "execution_count": 11,
   "metadata": {},
   "outputs": [
    {
     "name": "stdout",
     "output_type": "stream",
     "text": [
      "0.016691923141479492\n"
     ]
    }
   ],
   "source": [
    "t0 = time.time()\n",
    "integrate.nquad(lambda x,y,z:np.exp(-x**2-y**2-z**2),[[-1,1],[-1,1],[-1,1]])\n",
    "t3=time.time() - t0\n",
    "print(t3)"
   ]
  },
  {
   "cell_type": "code",
   "execution_count": 12,
   "metadata": {},
   "outputs": [
    {
     "name": "stdout",
     "output_type": "stream",
     "text": [
      "0.3253629207611084\n"
     ]
    }
   ],
   "source": [
    "t0 = time.time()\n",
    "integrate.nquad(lambda x,y,z,a:np.exp(-x**2-y**2-z**2-a**2),[[-1,1],[-1,1],[-1,1],[-1,1]])\n",
    "t4=time.time() - t0\n",
    "print(t4)"
   ]
  },
  {
   "cell_type": "code",
   "execution_count": 13,
   "metadata": {},
   "outputs": [
    {
     "name": "stdout",
     "output_type": "stream",
     "text": [
      "7.078979253768921\n"
     ]
    }
   ],
   "source": [
    "t0 = time.time()\n",
    "integrate.nquad(lambda x,y,z,a,b:np.exp(-x**2-y**2-z**2-a**2-b**2),[[-1,1],[-1,1],[-1,1],[-1,1],[-1,1]])\n",
    "t5=time.time() - t0\n",
    "print(t5)"
   ]
  },
  {
   "cell_type": "markdown",
   "metadata": {},
   "source": [
    "It is costing us 20 times the speed whenever we increase dimension by one.  So the running time is ${\\cal O}(20^d)$.  Clearly we will have no hope if we want to work in some high dimensional space."
   ]
  },
  {
   "cell_type": "markdown",
   "metadata": {},
   "source": [
    "**Why might it be good to use random numbers to integrate?** Random numbers are better than evenly space sampling because we don't actually know where our signal lives. When you are looking for a signal in a unknown space, doing something in a very correlated way is not a good search strategy.  Random means that there is at least some chance you will hit on the right answer.  In contrast, trying a regular grid may make your probability zero because your signal lives between the grid points.\n",
    "\n",
    "Let's start by implement the most basic possible version of monte-carlo integration just to find the volume of the $d$-sphere. Here we are simple going to sample $d$ numbers between -1 and 1 and calculate the fraction inside the $d$-sphere.  Finally, the area is $2^d$ (the volume of the box) tims this fraction."
   ]
  },
  {
   "cell_type": "markdown",
   "metadata": {},
   "source": [
    "As we have already done this before to determine $\\pi$ ($d=2$), we are going to go straight to comparing with the actual answer.  We will output the answer after every 100 points so that we can check how quickly we are approaching the answer"
   ]
  },
  {
   "cell_type": "code",
   "execution_count": 14,
   "metadata": {},
   "outputs": [],
   "source": [
    "def dvol(n,d):\n",
    "    analytic=np.pi**(float(d)/2.)*rgamma(float(d)/2.+1)\n",
    "    count = 0\n",
    "    Narea=[]\n",
    "    x=np.zeros(d)\n",
    "    for j in range(n):\n",
    "        #sample x_i from -1 to 1\n",
    "        for i in range(d):\n",
    "            x[i]=2.* random.random()-1.\n",
    "        if (x*x).sum()<=1:\n",
    "            count += 1.\n",
    "        #only add the result if it is inside the cicle\n",
    "        if j%100 ==0 and j!=0:  # Now ouput the result every 100 steps\n",
    "            Narea.append((np.abs(2**(d)*float(count)/float(j)-analytic))/analytic)\n",
    "    \n",
    "    return Narea"
   ]
  },
  {
   "cell_type": "code",
   "execution_count": 15,
   "metadata": {},
   "outputs": [
    {
     "name": "stdout",
     "output_type": "stream",
     "text": [
      "3.746551752090454\n"
     ]
    },
    {
     "name": "stdout",
     "output_type": "stream",
     "text": [
      "3.8890328407287598\n"
     ]
    },
    {
     "name": "stdout",
     "output_type": "stream",
     "text": [
      "4.1491100788116455\n"
     ]
    },
    {
     "name": "stdout",
     "output_type": "stream",
     "text": [
      "4.379343748092651\n"
     ]
    }
   ],
   "source": [
    "Narea={}\n",
    "for i in range(4):\n",
    "    t0 = time.time()\n",
    "    Narea[i]=dvol(10**6,i+2)\n",
    "    print(time.time()-t0)"
   ]
  },
  {
   "cell_type": "code",
   "execution_count": 16,
   "metadata": {},
   "outputs": [
    {
     "data": {
      "image/png": "[encoded data removed]",
      "text/plain": [
       "<Figure size 432x288 with 1 Axes>"
      ]
     },
     "metadata": {
      "filenames": {
       "image/png": "/Users/drgreen/Google Drive/IPy/Physics39_book/_build/jupyter_execute/Topic6c_MC_26_0.png"
      },
      "needs_background": "light"
     },
     "output_type": "display_data"
    }
   ],
   "source": [
    "points=100*(np.arange(len(Narea[0]))+1)\n",
    "for i in range(4):\n",
    "    plt.plot(points,Narea[i],label='d='+str(i++2))\n",
    "plt.yscale('log')\n",
    "plt.xscale('log')\n",
    "plt.legend()\n",
    "plt.show()"
   ]
  },
  {
   "cell_type": "markdown",
   "metadata": {},
   "source": [
    "Here we are getting the same level of fractional error for approximately the same computing time as we increase dimension."
   ]
  },
  {
   "cell_type": "markdown",
   "metadata": {},
   "source": [
    "However, we do note that the error is getting worse with dimension. This is not just random, at some point we are going to encounter our original problem: we are drawing numbers uniformly inside a $d$-dimensional box and keeping track of those that are inside the sphere.  However, but we say at $d=20$, the fraction of volume in the sphere is about $2.5\\times10^{-8}$ and therefore we wouldn't expect to hit the sphere once in $10^6$ tries."
   ]
  },
  {
   "cell_type": "markdown",
   "metadata": {},
   "source": [
    "## Importance Sampling"
   ]
  },
  {
   "cell_type": "markdown",
   "metadata": {},
   "source": [
    "Of course, what we are really enountering is the idea random numbers can't solve the volume problem if we are drawing from a uniform distribution.  Instead, we should be tailoring how to draw the random numbers to the problem we are trying to solve."
   ]
  },
  {
   "cell_type": "markdown",
   "metadata": {},
   "source": [
    "We are going to try a very basic technique called importance sampling. This will give us some intuition but will miss out of some of the complexity of more powerful tools.\n",
    "\n",
    "However, the key idea that is common to all of them is that we have a probability distribution that allows us to increase the chance of finding the most important parts of parameter space.  In advanced techniques, this probabilty adjust to the function itself, allowing it to find the highest points more easily.  Here is will simply choose one and see how to tell when we've made a good choice."
   ]
  },
  {
   "cell_type": "markdown",
   "metadata": {},
   "source": [
    "Importance sampling is the generalization of the above when we don't pick a uniform distribution.  Suppose instead that a pick points from a  distribution $p(x)$ and I want to compute $\\int d^d x q(\\vec x) p(\\vec x) = \\langle q(\\vec x) \\rangle$.  Now if we define $q(\\vec x) = f(\\vec x) / p(\\vec x)$ this is also equivalent to $\\int d^d x f(\\vec x) \\equiv Q$.  Now we draw from the distribution $p(\\vec x)$ we get\n",
    "$$\n",
    "Q_N = V \\frac{1}{N} \\sum_{i =1}^{N} q(\\vec x_i) \n",
    "$$\n",
    "where $\\vec x_i$ are drawn from $p(\\vec x)$ then we again have $Q_N \\to Q$.  As long as $p(\\vec x)$ and $q(\\vec x)$ can be chosen to that they are large in the same areas, we might expect to find faster convergence to the correct answer."
   ]
  },
  {
   "cell_type": "markdown",
   "metadata": {},
   "source": [
    "Let's start by recalculating the volume of the sphere.  We are going to have $p(\\vec x) = e^{-|\\vec x|^2/(2 \\sigma^2)}/\\sqrt{2\\pi \\sigma^2}$ and $f(\\vec x)=1$ where $x^2 \\leq 1$ and 0 otherwise and therefore $q(\\vec x) = f(\\vec x) / p(\\vec x)$ is $1/p(\\vec x_i)$ when $\\vec x_i$ is inside the sphere and 0 otherwise."
   ]
  },
  {
   "cell_type": "code",
   "execution_count": 17,
   "metadata": {},
   "outputs": [],
   "source": [
    "# We are going to pick from a gaussian distribution with some variance\n",
    "def gaussvol(n,d,sigma):\n",
    "    analytic=np.pi**(float(d)/2.)*rgamma(float(d)/2.+1)\n",
    "    count = 0\n",
    "    Narea=[]\n",
    "    x=np.zeros(d)\n",
    "    for j in range(n):\n",
    "        random.seed()\n",
    "        #sample x_i from -1 to 1\n",
    "        for i in range(d):\n",
    "            x[i]=np.random.randn()*sigma     \n",
    "        if (x*x).sum()<=1:\n",
    "            # Here we use importance sampling to weight the result\n",
    "            count+= np.sqrt(2*np.pi*sigma**2)**(d)*np.exp((x*x).sum()/(2.*sigma**2))\n",
    "        #only add the result if it is inside the cicle\n",
    "        if j%1000 ==0 and j!=0:\n",
    "            Narea.append(np.abs(float(count)/float(j)-analytic)/analytic)\n",
    "    \n",
    "    return Narea"
   ]
  },
  {
   "cell_type": "code",
   "execution_count": 18,
   "metadata": {},
   "outputs": [
    {
     "data": {
      "text/plain": [
       "[0.4402100331429828,\n",
       " 0.3487399121712191,\n",
       " 0.15461530107989796,\n",
       " 0.13578084224285283,\n",
       " 0.11637259619103976,\n",
       " 0.17487619123653458,\n",
       " 0.09092970424237563,\n",
       " 0.018611752239126762,\n",
       " 0.0019390985369737456]"
      ]
     },
     "execution_count": 18,
     "metadata": {},
     "output_type": "execute_result"
    }
   ],
   "source": [
    "npoints=10000\n",
    "dim=int(6)\n",
    "gaussvol(npoints,dim,1)\n",
    "#sigma_list=[5,1,0.5,0.3,0.2,0.1]\n",
    "#Gvol={}\n",
    "#for s in sigma_list:\n",
    "#    Gvol[s]=gaussvol(npoints,dim,s)\n",
    "#vol6flat=dvol(npoints,dim)\n"
   ]
  },
  {
   "cell_type": "code",
   "execution_count": 19,
   "metadata": {},
   "outputs": [],
   "source": [
    "# We are going to pick from a gaussian distribution with some variance\n",
    "def gaussvol_fast(n,d,sigma):\n",
    "    analytic=np.pi**(float(d)/2.)*rgamma(float(d)/2.+1)\n",
    "    count = 0\n",
    "    Narea=[]\n",
    "    X=(np.random.randn(d*n)*sigma).reshape(n,d)\n",
    "    Y=((X**2).sum(axis=1))\n",
    "    f=1000\n",
    "    factor=int(n/f)\n",
    "    out=np.zeros(factor)\n",
    "    for i in range(factor):\n",
    "        out[i]=np.abs(((Y[:(i+1)*f]<=1)*np.exp(Y[:(i+1)*f]/(2*sigma**2))).sum()*np.sqrt(2*np.pi*sigma**2)**d/((i+1)*f)-analytic)/analytic\n",
    "    #return ((Y<=1)*np.exp(Y)).sum()/n\n",
    "    return out"
   ]
  },
  {
   "cell_type": "code",
   "execution_count": 20,
   "metadata": {},
   "outputs": [
    {
     "ename": "KeyboardInterrupt",
     "evalue": "",
     "output_type": "error",
     "traceback": [
      "\u001b[0;31m---------------------------------------------------------------------------\u001b[0m",
      "\u001b[0;31mKeyboardInterrupt\u001b[0m                         Traceback (most recent call last)",
      "\u001b[0;32m/var/folders/vh/rcz751b57355h3qzj37sc3080000gp/T/ipykernel_880/1372217354.py\u001b[0m in \u001b[0;36m<module>\u001b[0;34m\u001b[0m\n\u001b[1;32m      5\u001b[0m \u001b[0;32mfor\u001b[0m \u001b[0ms\u001b[0m \u001b[0;32min\u001b[0m \u001b[0msigma_list\u001b[0m\u001b[0;34m:\u001b[0m\u001b[0;34m\u001b[0m\u001b[0;34m\u001b[0m\u001b[0m\n\u001b[1;32m      6\u001b[0m     \u001b[0mGvol\u001b[0m\u001b[0;34m[\u001b[0m\u001b[0ms\u001b[0m\u001b[0;34m]\u001b[0m\u001b[0;34m=\u001b[0m\u001b[0mgaussvol_fast\u001b[0m\u001b[0;34m(\u001b[0m\u001b[0mnpoints\u001b[0m\u001b[0;34m,\u001b[0m\u001b[0mdim\u001b[0m\u001b[0;34m,\u001b[0m\u001b[0ms\u001b[0m\u001b[0;34m)\u001b[0m\u001b[0;34m\u001b[0m\u001b[0;34m\u001b[0m\u001b[0m\n\u001b[0;32m----> 7\u001b[0;31m \u001b[0mvol6flat\u001b[0m\u001b[0;34m=\u001b[0m\u001b[0mdvol\u001b[0m\u001b[0;34m(\u001b[0m\u001b[0mnpoints\u001b[0m\u001b[0;34m,\u001b[0m\u001b[0mdim\u001b[0m\u001b[0;34m)\u001b[0m\u001b[0;34m\u001b[0m\u001b[0;34m\u001b[0m\u001b[0m\n\u001b[0m",
      "\u001b[0;32m/var/folders/vh/rcz751b57355h3qzj37sc3080000gp/T/ipykernel_880/353479215.py\u001b[0m in \u001b[0;36mdvol\u001b[0;34m(n, d)\u001b[0m\n\u001b[1;32m      8\u001b[0m         \u001b[0;32mfor\u001b[0m \u001b[0mi\u001b[0m \u001b[0;32min\u001b[0m \u001b[0mrange\u001b[0m\u001b[0;34m(\u001b[0m\u001b[0md\u001b[0m\u001b[0;34m)\u001b[0m\u001b[0;34m:\u001b[0m\u001b[0;34m\u001b[0m\u001b[0;34m\u001b[0m\u001b[0m\n\u001b[1;32m      9\u001b[0m             \u001b[0mx\u001b[0m\u001b[0;34m[\u001b[0m\u001b[0mi\u001b[0m\u001b[0;34m]\u001b[0m\u001b[0;34m=\u001b[0m\u001b[0;36m2.\u001b[0m\u001b[0;34m*\u001b[0m \u001b[0mrandom\u001b[0m\u001b[0;34m.\u001b[0m\u001b[0mrandom\u001b[0m\u001b[0;34m(\u001b[0m\u001b[0;34m)\u001b[0m\u001b[0;34m-\u001b[0m\u001b[0;36m1.\u001b[0m\u001b[0;34m\u001b[0m\u001b[0;34m\u001b[0m\u001b[0m\n\u001b[0;32m---> 10\u001b[0;31m         \u001b[0;32mif\u001b[0m \u001b[0;34m(\u001b[0m\u001b[0mx\u001b[0m\u001b[0;34m*\u001b[0m\u001b[0mx\u001b[0m\u001b[0;34m)\u001b[0m\u001b[0;34m.\u001b[0m\u001b[0msum\u001b[0m\u001b[0;34m(\u001b[0m\u001b[0;34m)\u001b[0m\u001b[0;34m<=\u001b[0m\u001b[0;36m1\u001b[0m\u001b[0;34m:\u001b[0m\u001b[0;34m\u001b[0m\u001b[0;34m\u001b[0m\u001b[0m\n\u001b[0m\u001b[1;32m     11\u001b[0m             \u001b[0mcount\u001b[0m \u001b[0;34m+=\u001b[0m \u001b[0;36m1.\u001b[0m\u001b[0;34m\u001b[0m\u001b[0;34m\u001b[0m\u001b[0m\n\u001b[1;32m     12\u001b[0m         \u001b[0;31m#only add the result if it is inside the cicle\u001b[0m\u001b[0;34m\u001b[0m\u001b[0;34m\u001b[0m\u001b[0m\n",
      "\u001b[0;32m/opt/anaconda3/lib/python3.9/site-packages/numpy/core/_methods.py\u001b[0m in \u001b[0;36m_sum\u001b[0;34m(a, axis, dtype, out, keepdims, initial, where)\u001b[0m\n\u001b[1;32m     45\u001b[0m def _sum(a, axis=None, dtype=None, out=None, keepdims=False,\n\u001b[1;32m     46\u001b[0m          initial=_NoValue, where=True):\n\u001b[0;32m---> 47\u001b[0;31m     \u001b[0;32mreturn\u001b[0m \u001b[0mumr_sum\u001b[0m\u001b[0;34m(\u001b[0m\u001b[0ma\u001b[0m\u001b[0;34m,\u001b[0m \u001b[0maxis\u001b[0m\u001b[0;34m,\u001b[0m \u001b[0mdtype\u001b[0m\u001b[0;34m,\u001b[0m \u001b[0mout\u001b[0m\u001b[0;34m,\u001b[0m \u001b[0mkeepdims\u001b[0m\u001b[0;34m,\u001b[0m \u001b[0minitial\u001b[0m\u001b[0;34m,\u001b[0m \u001b[0mwhere\u001b[0m\u001b[0;34m)\u001b[0m\u001b[0;34m\u001b[0m\u001b[0;34m\u001b[0m\u001b[0m\n\u001b[0m\u001b[1;32m     48\u001b[0m \u001b[0;34m\u001b[0m\u001b[0m\n\u001b[1;32m     49\u001b[0m def _prod(a, axis=None, dtype=None, out=None, keepdims=False,\n",
      "\u001b[0;31mKeyboardInterrupt\u001b[0m: "
     ]
    }
   ],
   "source": [
    "npoints=1000000\n",
    "dim=int(6)\n",
    "sigma_list=[0.6,0.4,0.2]\n",
    "Gvol={}\n",
    "for s in sigma_list:\n",
    "    Gvol[s]=gaussvol_fast(npoints,dim,s)\n",
    "vol6flat=dvol(npoints,dim)"
   ]
  },
  {
   "cell_type": "code",
   "execution_count": 23,
   "metadata": {},
   "outputs": [
    {
     "data": {
      "image/png": "[encoded data removed]",
      "text/plain": [
       "<Figure size 432x288 with 1 Axes>"
      ]
     },
     "metadata": {
      "filenames": {
       "image/png": "/Users/drgreen/Google Drive/IPy/Physics39_book/_build/jupyter_execute/Topic6c_MC_38_0.png"
      },
      "needs_background": "light"
     },
     "output_type": "display_data"
    }
   ],
   "source": [
    "Num=np.arange(1000,npoints+1000,step=1000)\n",
    "n_old=np.arange(100,npoints,step=100)\n",
    "for s in sigma_list:\n",
    "    plt.plot(Num,Gvol[s],label=str(s))\n",
    "plt.plot(n_old,vol6flat,color='black')\n",
    "plt.yscale('log')\n",
    "#plt.xscale('log')\n",
    "plt.legend()\n",
    "plt.xlim(1000,npoints)\n",
    "plt.show()"
   ]
  },
  {
   "cell_type": "markdown",
   "metadata": {},
   "source": [
    "The first thing we notice is that for the same number of randomly drawn points, some of our Gaussian models are doing quite a bit better than our black line which used a uniform distribution.\n",
    "\n",
    "The second, and more important, thing to notice that the accuracy is not strictly decreasing or increasing.  The best choice was 0.4, both 0.2 and 0.6 had larger errors.  This is pretty easy to understand if we keep track of how often we are throwing away points:"
   ]
  },
  {
   "cell_type": "code",
   "execution_count": 24,
   "metadata": {},
   "outputs": [],
   "source": [
    "# We are going to pick from a gaussian distribution with some variance\n",
    "def gaussvol_frac(n,d,sigma):\n",
    "    analytic=np.pi**(float(d)/2.)*rgamma(float(d)/2.+1)\n",
    "    count = 0\n",
    "    Narea=[]\n",
    "    X=(np.random.randn(d*n)*sigma).reshape(n,d)\n",
    "    Y=((X**2).sum(axis=1))\n",
    "\n",
    "    out_Vol=np.abs(((Y<=1)*np.exp(Y/(2*sigma**2))).sum()*np.sqrt(2*np.pi*sigma**2)**d/(n)-analytic)/analytic\n",
    "    out_frac=(Y<=1).sum()/n\n",
    "    return out_Vol,out_frac"
   ]
  },
  {
   "cell_type": "code",
   "execution_count": 25,
   "metadata": {},
   "outputs": [],
   "source": [
    "s_r=np.logspace(-2,0.5,40)\n",
    "error=np.zeros(len(s_r))\n",
    "frac=np.zeros(len(s_r))\n",
    "for i in range(len(s_r)):\n",
    "    error[i],frac[i]=gaussvol_frac(npoints,dim,s_r[i])"
   ]
  },
  {
   "cell_type": "code",
   "execution_count": 26,
   "metadata": {},
   "outputs": [
    {
     "data": {
      "image/png": "[encoded data removed]",
      "text/plain": [
       "<Figure size 432x288 with 1 Axes>"
      ]
     },
     "metadata": {
      "filenames": {
       "image/png": "/Users/drgreen/Google Drive/IPy/Physics39_book/_build/jupyter_execute/Topic6c_MC_42_0.png"
      },
      "needs_background": "light"
     },
     "output_type": "display_data"
    }
   ],
   "source": [
    "plt.plot(s_r,error,color='darkorange',lw=3,label='error')\n",
    "plt.plot(s_r,frac,lw=3,label='acceptance fraction')\n",
    "plt.legend()\n",
    "plt.yscale('log')\n",
    "plt.xscale('log')\n",
    "plt.show()"
   ]
  },
  {
   "cell_type": "markdown",
   "metadata": {},
   "source": [
    "Here we see what's going on: when $\\sigma < 0.1$, basically every point is inside the sphere.  The fraction of points that pass $\\vec x^2\\leq 1$ is basically 100 percent, but that means out poitns are not really sampling the shape of the function $f(x)$.  When $\\sigma > 1$ almost none of the points are passing the test and so our error also increases because we don't have enough points.  \n",
    "\n",
    "This is the basic moral of monte carlo methods: they can be much more effective than other techniques, but the parameters of the probability distribution have to encode some knowledge of the function.  There are lots of scheme that use the idea of throwing away random number that aren't in some range, and what we learned here is that you are trying to find a sweet spot between never throwing away your trails and always throwing them away."
   ]
  },
  {
   "cell_type": "code",
   "execution_count": 27,
   "metadata": {},
   "outputs": [
    {
     "name": "stdout",
     "output_type": "stream",
     "text": [
      "(7.483769599341911e-05, 0.052534)\n",
      "(0.0010311414444701885, 0.283449)\n",
      "(0.0026357558160213456, 0.304265)\n"
     ]
    }
   ],
   "source": [
    "print(gaussvol_frac(npoints,10,0.5))\n",
    "print(gaussvol_frac(npoints,20,0.25))\n",
    "print(gaussvol_frac(npoints,50,0.15))"
   ]
  },
  {
   "cell_type": "markdown",
   "metadata": {},
   "source": [
    "But look at what we can do with this: we are calculating integration in 50 dimensions in seconds so 1/1000 accuracy.  This would have been impossible the way we had started."
   ]
  },
  {
   "cell_type": "markdown",
   "metadata": {},
   "source": [
    "#### Application to a Generic Integral"
   ]
  },
  {
   "cell_type": "markdown",
   "metadata": {},
   "source": [
    "Now we want to do more than just calculate the volume but think about calculating an actual integral.  Well, luckily enough for us, we have already done most of the work.  If we define a function that takes a shape $(n,d)$ array and returns a length n array, then we can easily add it to the function we already have.\n",
    "\n",
    "Remember $f(x)$ was just implemented by the bool $Y<=1$. To make this an integral over a number function, we just swapm that piece for our functionf"
   ]
  },
  {
   "cell_type": "code",
   "execution_count": 28,
   "metadata": {},
   "outputs": [],
   "source": [
    "def gauss_int(f,n,d,sigma):\n",
    "    X=(np.random.randn(d*n)*sigma).reshape(n,d)\n",
    "    Y=((X**2).sum(axis=1))\n",
    "\n",
    "    out_int=(f(X)*np.exp(Y/(2*sigma**2))).sum()*np.sqrt(2*np.pi*sigma**2)**d/(n)\n",
    "    out_frac=(Y<=1).sum()/n\n",
    "    return out_int,out_frac"
   ]
  },
  {
   "cell_type": "markdown",
   "metadata": {},
   "source": [
    "As long as the function is define as describe, this will work. A simple example might be"
   ]
  },
  {
   "cell_type": "code",
   "execution_count": 29,
   "metadata": {},
   "outputs": [],
   "source": [
    "def radial_func(X):\n",
    "    z=(X**2).sum(axis=1)\n",
    "    return np.sin(0.2*z)*np.exp(-z)"
   ]
  },
  {
   "cell_type": "code",
   "execution_count": 30,
   "metadata": {},
   "outputs": [
    {
     "data": {
      "text/plain": [
       "(16.366023429849886, 0.3230563)"
      ]
     },
     "execution_count": 30,
     "metadata": {},
     "output_type": "execute_result"
    }
   ],
   "source": [
    "gauss_int(radial_func,10000000,6,0.5)"
   ]
  },
  {
   "cell_type": "markdown",
   "metadata": {},
   "source": [
    "We see there is really no problem with the speed of this method.  Our real challenge becomes how we test the accuracy.  Since part of the challege is picking the parameters that best suite the integral, we can't rely on knowing the exact answer (otherwise why are we doing the integral!). Some basic things we can do are check convergence and sensitivity to parameters"
   ]
  },
  {
   "cell_type": "code",
   "execution_count": 31,
   "metadata": {},
   "outputs": [
    {
     "name": "stdout",
     "output_type": "stream",
     "text": [
      "(16.238085410897224, 0.32452)\n",
      "(16.170245937619843, 0.323394)\n",
      "(16.272515275174765, 0.3232996)\n"
     ]
    }
   ],
   "source": [
    "print(gauss_int(radial_func,100000,6,0.5))\n",
    "print(gauss_int(radial_func,1000000,6,0.5))\n",
    "print(gauss_int(radial_func,10000000,6,0.5))"
   ]
  },
  {
   "cell_type": "code",
   "execution_count": 32,
   "metadata": {},
   "outputs": [],
   "source": [
    "int_val=np.zeros(len(s_r))\n",
    "int_frac=np.zeros(len(s_r))\n",
    "for i in range(len(s_r)):\n",
    "    int_val[i],int_frac[i]=gauss_int(radial_func,1000000,6,s_r[i])"
   ]
  },
  {
   "cell_type": "code",
   "execution_count": 33,
   "metadata": {},
   "outputs": [
    {
     "data": {
      "image/png": "[encoded data removed]",
      "text/plain": [
       "<Figure size 432x288 with 1 Axes>"
      ]
     },
     "metadata": {
      "filenames": {
       "image/png": "/Users/drgreen/Google Drive/IPy/Physics39_book/_build/jupyter_execute/Topic6c_MC_55_0.png"
      },
      "needs_background": "light"
     },
     "output_type": "display_data"
    }
   ],
   "source": [
    "plt.plot(s_r,int_val,color='darkorange',lw=3,label='integral')\n",
    "plt.plot(s_r,int_frac,lw=3,label='acceptance fraction')\n",
    "plt.legend()\n",
    "plt.yscale('log')\n",
    "plt.xscale('log')\n",
    "plt.show()"
   ]
  },
  {
   "cell_type": "code",
   "execution_count": 34,
   "metadata": {},
   "outputs": [
    {
     "data": {
      "image/png": "[encoded data removed]",
      "text/plain": [
       "<Figure size 432x288 with 1 Axes>"
      ]
     },
     "metadata": {
      "filenames": {
       "image/png": "/Users/drgreen/Google Drive/IPy/Physics39_book/_build/jupyter_execute/Topic6c_MC_56_0.png"
      },
      "needs_background": "light"
     },
     "output_type": "display_data"
    }
   ],
   "source": [
    "plt.plot(s_r,int_val,color='darkorange',lw=3,label='integral')\n",
    "#plt.plot(s_r,int_frac,lw=3,label='acceptance fraction')\n",
    "#plt.legend()\n",
    "#plt.yscale('log')\n",
    "plt.xscale('log')\n",
    "plt.show()"
   ]
  },
  {
   "cell_type": "markdown",
   "metadata": {},
   "source": [
    "## Summary"
   ]
  },
  {
   "cell_type": "markdown",
   "metadata": {},
   "source": [
    "There are a wide range of numerical methods that use random numbers to speed up and/or improve the accuracy of the method.  This is particularly important for problems with nots of parameters where uniform sampling becomes extremely inefficient.  We studied the case of integration specifically, which shows many of the pros and cons of these methods in a context that is easy enough to understand."
   ]
  },
  {
   "cell_type": "code",
   "execution_count": null,
   "metadata": {},
   "outputs": [],
   "source": []
  }
 ],
 "metadata": {
  "kernelspec": {
   "display_name": "Python 3 (ipykernel)",
   "language": "python",
   "name": "python3"
  },
  "language_info": {
   "codemirror_mode": {
    "name": "ipython",
    "version": 3
   },
   "file_extension": ".py",
   "mimetype": "text/x-python",
   "name": "python",
   "nbconvert_exporter": "python",
   "pygments_lexer": "ipython3",
   "version": "3.9.7"
  }
 },
 "nbformat": 4,
 "nbformat_minor": 2
}