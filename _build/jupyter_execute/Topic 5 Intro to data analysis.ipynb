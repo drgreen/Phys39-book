{
 "cells": [
  {
   "cell_type": "markdown",
   "id": "470f9b7d",
   "metadata": {},
   "source": [
    "# Topic 5: Intro to Data Analysis"
   ]
  },
  {
   "cell_type": "markdown",
   "id": "324a1b2a",
   "metadata": {},
   "source": [
    "Understanding and visulizing data is a central problem in the sciences and beyond.  We will begin with the very basics and we will return to discuss more advanced methods later in the course."
   ]
  },
  {
   "cell_type": "markdown",
   "id": "8980653c",
   "metadata": {},
   "source": [
    "The starting point for most data analysis is literally reading in the data so that you can use it in python."
   ]
  },
  {
   "cell_type": "code",
   "execution_count": 1,
   "id": "7fa02074",
   "metadata": {},
   "outputs": [],
   "source": [
    "import numpy as np\n",
    "import matplotlib.pyplot as plt"
   ]
  },
  {
   "cell_type": "markdown",
   "id": "955634d8",
   "metadata": {},
   "source": [
    "Here is how we open a generic text file.  We will print all the lines so you can see what the file looks line"
   ]
  },
  {
   "cell_type": "code",
   "execution_count": 2,
   "id": "131885dc",
   "metadata": {},
   "outputs": [
    {
     "name": "stdout",
     "output_type": "stream",
     "text": [
      "# here is some preamble\n",
      "\n",
      "# here is some more preamble\n",
      "\n",
      "1.0,-0.6311688938249904,0.45488424301397556,1.4166838803401072,\n",
      "\n",
      "1.0909090909090908,0.1836650127781727,-1.2320204754180588,1.4640662255632122,\n",
      "\n",
      "1.1818181818181819,-1.2067884002340479,-0.9383912321268246,-1.4714065565433299,\n",
      "\n",
      "1.2727272727272727,-0.07397985995933759,1.8395768409168949,-0.0796575263423811,\n",
      "\n",
      "1.3636363636363638,-0.737654908251103,-1.2826141566048304,2.143318426612972,\n",
      "\n",
      "1.4545454545454546,-0.6352094090520055,1.196605783495026,-0.5272364016024303,\n",
      "\n",
      "1.5454545454545454,-1.3478569367857853,1.2726038119049938,-0.2387464313240688,\n",
      "\n",
      "1.6363636363636362,1.7643027277060235,-1.3358815620673254,0.42002797035543593,\n",
      "\n",
      "1.7272727272727273,1.1228898074019433,0.4373429207381663,-0.1053287323238627,\n",
      "\n",
      "1.8181818181818183,-1.9235573265400396,1.0784356569475517,-0.43585645156397873,\n",
      "\n",
      "1.9090909090909092,-2.5203822814363916,0.2925419990496477,-0.7175310482674775,\n",
      "\n",
      "2.0,-0.20414929117298058,1.8548073032642414,-1.6689147413533778,\n",
      "\n",
      "2.090909090909091,0.6621809483393832,-0.3051219239294479,1.1131763474375251,\n",
      "\n",
      "2.1818181818181817,0.3182087214669058,-0.042937245099687604,1.1752070761056175,\n",
      "\n",
      "2.2727272727272725,0.22912356066614792,0.29073506428594337,1.7818860311483344,\n",
      "\n",
      "2.3636363636363638,-0.3829663239804597,1.2152670827311336,-0.47144795060521066,\n",
      "\n",
      "2.4545454545454546,1.865932067710966,0.7675499181699784,0.12187118234859495,\n",
      "\n",
      "2.5454545454545454,-0.08836032079560019,-0.1666437043109095,0.626776483177752,\n",
      "\n",
      "2.6363636363636367,-0.1157667893960524,0.4901440432726023,0.4253528301358699,\n",
      "\n",
      "2.7272727272727275,0.24497585695544113,2.7752811189421585,0.343931167436819,\n",
      "\n",
      "2.8181818181818183,0.14888310641784397,0.9543988718029668,0.8880236302997588,\n",
      "\n",
      "2.909090909090909,-0.2114497883523676,-1.688434540970014,0.27935921952965387,\n",
      "\n",
      "3.0,1.0352247792742475,-1.0731955421188029,2.701509689543154,\n",
      "\n",
      "3.090909090909091,-0.8537914813011567,1.7509227026567182,-0.9552216026515601,\n",
      "\n",
      "3.1818181818181817,1.3722857219464086,-0.37647616008459883,-0.16025010581716082,\n",
      "\n",
      "3.272727272727273,0.053927881477298795,-1.3127359490133514,2.711507312349479,\n",
      "\n",
      "3.3636363636363638,-0.4068758845366948,0.7035038827738344,0.30365742503758647,\n",
      "\n",
      "3.4545454545454546,-0.44478474721640066,-1.4555517678140941,2.3713902873526815,\n",
      "\n",
      "3.5454545454545454,2.116426641034081,1.0109175166041757,1.7765903267105174,\n",
      "\n",
      "3.6363636363636362,0.11636504326654121,-0.39359214869578835,2.032829663570117,\n",
      "\n",
      "3.7272727272727275,0.8015329178643593,0.7273604384719508,1.227679834941189,\n",
      "\n",
      "3.8181818181818183,0.6456429398866661,-1.352494638078151,3.1188298852583616,\n",
      "\n",
      "3.909090909090909,1.613784466354094,0.04898448107888345,2.708345137790178,\n",
      "\n",
      "4.0,-1.41366205041043,1.0229177097053903,1.5199421945650475,\n",
      "\n",
      "4.090909090909091,-0.3421580136252812,-1.1187303130674546,0.7096631263875519,\n",
      "\n",
      "4.181818181818182,0.07888321542058939,0.8636770901568209,1.2864962209751158,\n",
      "\n",
      "4.272727272727273,1.8760741154369092,-1.3073459162098775,2.588484416332107,\n",
      "\n",
      "4.363636363636363,0.06585764882180982,0.8705697000713934,2.124660688963388,\n",
      "\n",
      "4.454545454545455,-0.22438214432973524,0.4027602740454191,3.066047039885218,\n",
      "\n",
      "4.545454545454545,-2.0491518156959208,0.9922030057065043,1.4647428779952012,\n",
      "\n",
      "4.636363636363637,0.5823994686118554,1.4178740616537855,1.1659646426268564,\n",
      "\n",
      "4.7272727272727275,1.1174069972630207,-0.04600732058846052,2.5796909818035645,\n",
      "\n",
      "4.818181818181818,-1.179141881111505,3.2015700262839704,0.07426732300802663,\n",
      "\n",
      "4.909090909090909,-0.5685640147773101,0.8422491785269339,1.9361054483673024,\n",
      "\n",
      "5.0,0.49560619172623754,1.378808545961349,2.772330131342585,\n",
      "\n",
      "5.090909090909091,0.24585784653847198,-0.20555502242005147,1.131185156172839,\n",
      "\n",
      "5.181818181818182,1.5643862123074455,-0.11958099935101546,1.3147100878015254,\n",
      "\n",
      "5.2727272727272725,-1.1151867423383657,0.5168985098872407,3.1046733325611573,\n",
      "\n",
      "5.363636363636363,-0.2726364668908259,-0.08699783939484457,3.2585070783888552,\n",
      "\n",
      "5.454545454545455,0.9001532285209066,1.3526696413293455,1.8728542161334232,\n",
      "\n",
      "5.545454545454546,-0.6202357596001613,2.007273180695664,1.2825433316035202,\n",
      "\n",
      "5.636363636363637,1.1819882134237294,-0.22142023759539192,2.365387520829122,\n",
      "\n",
      "5.7272727272727275,-0.5941962918244037,-0.14320348032695024,2.6040454782634064,\n",
      "\n",
      "5.818181818181818,-0.02477118308961286,0.9716562819146767,2.148810432530392,\n",
      "\n",
      "5.909090909090909,0.8327767577068002,-0.2927110377652543,3.069936739485766,\n",
      "\n",
      "6.0,-1.1556411055077778,1.4417724412287023,3.1886656103478708,\n",
      "\n",
      "6.090909090909091,-1.2168552986118735,0.4506696001559499,2.386898651226657,\n",
      "\n",
      "6.181818181818182,-0.6157921010281806,-0.497108647756321,0.05661589728718264,\n",
      "\n",
      "6.2727272727272725,-1.7671583367295978,1.135331434196452,2.817105149730652,\n",
      "\n",
      "6.363636363636364,0.13096635693994016,-0.22052459096032073,3.160826314988174,\n",
      "\n",
      "6.454545454545455,0.690294866968097,1.8963277920971895,4.487425364155156,\n",
      "\n",
      "6.545454545454546,2.371694887897769,0.27960637363250584,2.3644192911897908,\n",
      "\n",
      "6.636363636363637,1.273825402614828,0.8687499947091604,3.305655085108792,\n",
      "\n",
      "6.7272727272727275,0.37967675226481273,-1.3159423011413678,1.661604297176963,\n",
      "\n",
      "6.818181818181818,1.0948910337870426,1.3123807007747081,3.6798167626896023,\n",
      "\n",
      "6.909090909090909,-1.6205454405798412,2.9248119763275087,2.3917854722312857,\n",
      "\n",
      "7.0,0.735428855084481,1.7767204644281096,3.3694488806819884,\n",
      "\n",
      "7.090909090909091,-0.04455145140604422,-0.1371341937628388,2.642018658136439,\n",
      "\n",
      "7.181818181818182,-1.5357456259373374,1.604807734797527,4.412411518091927,\n",
      "\n",
      "7.2727272727272725,-2.009658212034761,-0.7726057755922854,4.155582143990508,\n",
      "\n",
      "7.363636363636364,2.374179182366948,1.0793284192789065,3.170149680288414,\n",
      "\n",
      "7.454545454545455,-0.6902691820562796,0.3217260254744907,2.865907753457373,\n",
      "\n",
      "7.545454545454546,-0.15763329565736972,-0.2569440439920063,3.368592679754569,\n",
      "\n",
      "7.636363636363637,0.9242345372372889,0.27667266297441834,3.637880473686003,\n",
      "\n",
      "7.7272727272727275,-3.1875997601455275,2.199806115530024,2.1096391833912675,\n",
      "\n",
      "7.818181818181818,-1.1718948899473165,0.10319898990813686,4.576445271388832,\n",
      "\n",
      "7.909090909090909,0.9785580968322369,0.009469202542572108,4.49391127399047,\n",
      "\n",
      "8.0,-0.8665677410547212,-0.17314343767459317,5.313216187997888,\n",
      "\n",
      "8.09090909090909,-1.6213716879341697,1.1684574860898165,3.19369658313685,\n",
      "\n",
      "8.181818181818182,-0.06367514456694123,1.4356964984967884,5.912587734389751,\n",
      "\n",
      "8.272727272727273,0.7401111090339849,0.43828138891593493,4.616231505466975,\n",
      "\n",
      "8.363636363636363,1.446697225209474,0.2686299890785137,6.166373213464694,\n",
      "\n",
      "8.454545454545455,2.0171465823853088,1.7122578969698194,4.543006941829624,\n",
      "\n",
      "8.545454545454547,0.05547192247442552,-0.6291651473329716,4.507974800623014,\n",
      "\n",
      "8.636363636363637,-0.0197020770305536,0.9233026597415765,6.920201295831565,\n",
      "\n",
      "8.727272727272727,-0.4911129241676753,1.6061208531128814,3.8010877096815032,\n",
      "\n",
      "8.818181818181818,2.069890341411209,-0.209459536509214,6.761139952443798,\n",
      "\n",
      "8.90909090909091,0.032529746059397326,-1.754907126230721,5.2962287556147905,\n",
      "\n",
      "9.0,1.4366854455763804,-0.9398701401824869,6.13375599845889,\n",
      "\n",
      "9.090909090909092,-1.0881560738374398,0.7241679159272209,7.010425652001209,\n",
      "\n",
      "9.181818181818182,0.4358544140396277,0.2484598305057409,4.543475541105149,\n",
      "\n",
      "9.272727272727273,0.47595695530935767,1.8022691191471243,5.451213213875634,\n",
      "\n",
      "9.363636363636363,0.6720375552319127,2.6861025069373134,7.9347242752625275,\n",
      "\n",
      "9.454545454545455,0.15566217413846836,0.9488508609031605,5.960063077396186,\n",
      "\n",
      "9.545454545454545,0.5227159219087347,-0.20599329826767998,7.820105590320214,\n",
      "\n",
      "9.636363636363637,-0.23146925909689864,0.6207016561335794,5.959715623500961,\n",
      "\n",
      "9.727272727272727,-0.5167395516639268,0.7343253426310082,5.3781930296290685,\n",
      "\n",
      "9.818181818181818,-0.005145926712907867,1.8884676984294115,6.645049022367959,\n",
      "\n",
      "9.90909090909091,2.167391340402733,1.8142239879060225,6.244150828030593,\n",
      "\n",
      "10.0,0.7589063994652221,-0.4915403755397779,8.432902602792572,\n",
      "\n"
     ]
    }
   ],
   "source": [
    "f=open(\"data1.txt\",\"r\") # \"r\" means we are reading the file\n",
    "for line in f:\n",
    "    print(line)\n",
    "f.close()"
   ]
  },
  {
   "cell_type": "markdown",
   "id": "91373950",
   "metadata": {},
   "source": [
    "Reading the 3rd line we see that the data is organized as time,data,data,data.  Our goal is to read in this data.  We need to do two things: (1) we also want to skip over the preamble that starts with #.  (2)we want to save the data into 4 arrays, one for the time and 3 others for the time series data. Here is how we can do it.  First, we notice there is a nice command"
   ]
  },
  {
   "cell_type": "code",
   "execution_count": 3,
   "id": "13eb96cf",
   "metadata": {},
   "outputs": [
    {
     "name": "stdout",
     "output_type": "stream",
     "text": [
      "True False\n"
     ]
    }
   ],
   "source": [
    "txt1='#preamble'\n",
    "txt2='data'\n",
    "print(txt1.startswith('#'),txt2.startswith('#'))"
   ]
  },
  {
   "cell_type": "markdown",
   "id": "31787a4f",
   "metadata": {},
   "source": [
    "Second we notice that we can split a string into pieces as follows:"
   ]
  },
  {
   "cell_type": "code",
   "execution_count": 4,
   "id": "dee2bc26",
   "metadata": {},
   "outputs": [
    {
     "name": "stdout",
     "output_type": "stream",
     "text": [
      "['Welcome', 'to', 'UC', 'San', 'Diego']\n",
      "['comma,separated,words']\n",
      "['comma', 'separated', 'words']\n",
      "words separated\n"
     ]
    }
   ],
   "source": [
    "string1='Welcome to UC San Diego'\n",
    "string2='comma,separated,words'\n",
    "print(string1.split())\n",
    "print(string2.split())\n",
    "print(string2.split(','))\n",
    "print(string2.split(',')[2],string2.split(',')[1])"
   ]
  },
  {
   "cell_type": "markdown",
   "id": "c19fbb2a",
   "metadata": {},
   "source": [
    "Using split(), we can isolate particular pieces from a given line in the file. Putting these together we can load the data as"
   ]
  },
  {
   "cell_type": "code",
   "execution_count": 5,
   "id": "4ca84a23",
   "metadata": {},
   "outputs": [],
   "source": [
    "t_temp=[]\n",
    "l1_temp=[]\n",
    "l2_temp=[]\n",
    "l3_temp=[]\n",
    "f=open(\"data1.txt\",\"r\") # \"r\" means we are reading the file\n",
    "for line in f:\n",
    "    if line.startswith('#')==False:\n",
    "        spl=line.split(',')\n",
    "        t_temp.append(float(spl[0]))\n",
    "        l1_temp.append(float(spl[1]))\n",
    "        l2_temp.append(float(spl[2]))\n",
    "        l3_temp.append(float(spl[3])) \n",
    "f.close()\n",
    "t=np.array(t_temp)\n",
    "d1=np.array(l1_temp)\n",
    "d2=np.array(l2_temp)\n",
    "d3=np.array(l3_temp)"
   ]
  },
  {
   "cell_type": "code",
   "execution_count": 6,
   "id": "2417d85c",
   "metadata": {},
   "outputs": [
    {
     "data": {
      "image/png": "[encoded data removed]",
      "text/plain": [
       "<Figure size 432x288 with 1 Axes>"
      ]
     },
     "metadata": {
      "filenames": {
       "image/png": "/Users/drgreen/Google Drive/IPy/Physics39_book/_build/jupyter_execute/Topic 5 Intro to data analysis_12_0.png"
      },
      "needs_background": "light"
     },
     "output_type": "display_data"
    }
   ],
   "source": [
    "plt.scatter(t,d1)\n",
    "plt.scatter(t,d2)\n",
    "plt.scatter(t,d3)\n",
    "plt.show()"
   ]
  },
  {
   "cell_type": "markdown",
   "id": "d949f6d5",
   "metadata": {},
   "source": [
    "We have successfully loaded our data and made a quick plot to see that it makes sense.  It certainly looks like some data, but what do we do with it?"
   ]
  },
  {
   "cell_type": "markdown",
   "id": "3a77a82e",
   "metadata": {},
   "source": [
    "### Signal and Noise"
   ]
  },
  {
   "cell_type": "markdown",
   "id": "4bdc6a13",
   "metadata": {},
   "source": [
    "The central idea in most basic analyses is that our data can be thought of as the sum of two pieces $${\\rm data} = {\\rm signal}+{\\rm noise}$$\n",
    "\n",
    "The **signal** is typically deterministic: in this case, it is some specific function of time that we are trying to measure.\n",
    "\n",
    "The **noise** is random: it is usually assumed to be uncorrelated between bins and drawn from a Gaussian with zero mean.  I.e. it is a random number drawn from a distribution that is added to our answer, but whose average is zero."
   ]
  },
  {
   "cell_type": "markdown",
   "id": "89a2a711",
   "metadata": {},
   "source": [
    "To see why this is important, let us assume that our signal is just a constant: ${\\rm signal}(t) = S$ and our noise is drawn from a Gaussian distribution with variance $\\sigma$.  Suppose our data is composed of $N$ measurements.  What we notice is that is we write\n",
    "$$\\sum ({\\rm data}- {\\rm signal}) = \\sum {\\rm noise}$$\n",
    "The right hand side is a random walk just like we did earlier in the course. We expect that average size of the RHS is set by the RMS distance of a random walk, $\\sqrt{N}\\sigma$.  On the other hand $\\sum {\\rm signal} = N S$, so as we take more data our signal will stand out, even if $S \\ll \\sigma$.  "
   ]
  },
  {
   "cell_type": "markdown",
   "id": "893f1b68",
   "metadata": {},
   "source": [
    "We can see how this works by simulating some data"
   ]
  },
  {
   "cell_type": "code",
   "execution_count": 7,
   "id": "7b65fc00",
   "metadata": {},
   "outputs": [],
   "source": [
    "def time_data(N,sigma=1,S=0.1):\n",
    "    return np.ones(N)*S+np.random.randn(N)*sigma"
   ]
  },
  {
   "cell_type": "code",
   "execution_count": 8,
   "id": "e3213001",
   "metadata": {},
   "outputs": [
    {
     "data": {
      "text/plain": [
       "[<matplotlib.lines.Line2D at 0x11caba970>]"
      ]
     },
     "execution_count": 8,
     "metadata": {},
     "output_type": "execute_result"
    },
    {
     "data": {
      "image/png": "[encoded data removed]",
      "text/plain": [
       "<Figure size 432x288 with 1 Axes>"
      ]
     },
     "metadata": {
      "filenames": {
       "image/png": "/Users/drgreen/Google Drive/IPy/Physics39_book/_build/jupyter_execute/Topic 5 Intro to data analysis_19_1.png"
      },
      "needs_background": "light"
     },
     "output_type": "display_data"
    }
   ],
   "source": [
    "Sdata=time_data(1000)\n",
    "noSdata=time_data(1000,S=0)\n",
    "plt.plot(Sdata)\n",
    "plt.plot(noSdata)"
   ]
  },
  {
   "cell_type": "code",
   "execution_count": 9,
   "id": "d27a6881",
   "metadata": {},
   "outputs": [
    {
     "data": {
      "text/plain": [
       "(108.46108722655725, 5.262148923566681)"
      ]
     },
     "execution_count": 9,
     "metadata": {},
     "output_type": "execute_result"
    }
   ],
   "source": [
    "Sdata.sum(),noSdata.sum()"
   ]
  },
  {
   "cell_type": "markdown",
   "id": "75047f7e",
   "metadata": {},
   "source": [
    "We get a bigger answer for the case with $S=0.1$ even though they look identical on the time series.  Let's check this isn't an accident"
   ]
  },
  {
   "cell_type": "code",
   "execution_count": 10,
   "id": "070050f1",
   "metadata": {},
   "outputs": [],
   "source": [
    "S_list=[]\n",
    "noS_list=[]\n",
    "for i in range(1000):\n",
    "    S_list.append(time_data(1000).sum())\n",
    "    noS_list.append(time_data(1000,S=0).sum())"
   ]
  },
  {
   "cell_type": "code",
   "execution_count": 11,
   "id": "99c5afdf",
   "metadata": {},
   "outputs": [
    {
     "data": {
      "image/png": "[encoded data removed]",
      "text/plain": [
       "<Figure size 864x432 with 1 Axes>"
      ]
     },
     "metadata": {
      "filenames": {
       "image/png": "/Users/drgreen/Google Drive/IPy/Physics39_book/_build/jupyter_execute/Topic 5 Intro to data analysis_23_0.png"
      },
      "needs_background": "light"
     },
     "output_type": "display_data"
    }
   ],
   "source": [
    "fig_h,ax_h=plt.subplots(figsize=(12,6))\n",
    "ax_h.hist(S_list,bins=20)\n",
    "ax_h.hist(noS_list,bins=20)\n",
    "plt.show()"
   ]
  },
  {
   "cell_type": "markdown",
   "id": "b5c932a8",
   "metadata": {},
   "source": [
    "We see that there is a clear difference between the two distributions.  We can repeat it with more points to see that this difference becomes more pronounced.  If we make it 10000 data points, we should expect the $S=0.1$ distribution to move to around 1000, while the $S=0$ will be rought between -100 and 100 at 1$\\sigma$.  "
   ]
  },
  {
   "cell_type": "code",
   "execution_count": 12,
   "id": "617041a9",
   "metadata": {},
   "outputs": [
    {
     "data": {
      "text/plain": [
       "[<matplotlib.lines.Line2D at 0x11cfd4460>]"
      ]
     },
     "execution_count": 12,
     "metadata": {},
     "output_type": "execute_result"
    },
    {
     "data": {
      "image/png": "[encoded data removed]",
      "text/plain": [
       "<Figure size 432x288 with 1 Axes>"
      ]
     },
     "metadata": {
      "filenames": {
       "image/png": "/Users/drgreen/Google Drive/IPy/Physics39_book/_build/jupyter_execute/Topic 5 Intro to data analysis_25_1.png"
      },
      "needs_background": "light"
     },
     "output_type": "display_data"
    }
   ],
   "source": [
    "Sdata=time_data(10000)\n",
    "noSdata=time_data(10000,S=0)\n",
    "plt.plot(Sdata)\n",
    "plt.plot(noSdata)"
   ]
  },
  {
   "cell_type": "code",
   "execution_count": 13,
   "id": "afd4b099",
   "metadata": {},
   "outputs": [],
   "source": [
    "S_Llist=[]\n",
    "noS_Llist=[]\n",
    "for i in range(1000):\n",
    "    S_Llist.append(time_data(10000).sum())\n",
    "    noS_Llist.append(time_data(10000,S=0).sum())"
   ]
  },
  {
   "cell_type": "code",
   "execution_count": 14,
   "id": "afb3e990",
   "metadata": {
    "scrolled": true
   },
   "outputs": [
    {
     "data": {
      "image/png": "[encoded data removed]",
      "text/plain": [
       "<Figure size 864x432 with 1 Axes>"
      ]
     },
     "metadata": {
      "filenames": {
       "image/png": "/Users/drgreen/Google Drive/IPy/Physics39_book/_build/jupyter_execute/Topic 5 Intro to data analysis_27_0.png"
      },
      "needs_background": "light"
     },
     "output_type": "display_data"
    }
   ],
   "source": [
    "fig_h,ax_h=plt.subplots(figsize=(12,6))\n",
    "ax_h.hist(S_Llist,bins=20)\n",
    "ax_h.hist(noS_Llist,bins=20)\n",
    "plt.show()"
   ]
  },
  {
   "cell_type": "markdown",
   "id": "fd6fd603",
   "metadata": {},
   "source": [
    "Now suppose we want to measure the value of $S$ in our data.  Suppose the true value of $S$ is $S_0$.  Let's just try to guess a value of $S$ and calculate \n",
    "$$ \\sum ({\\rm data}-S)^2 = \\sum (S_0+{\\rm noise} - S)^2$$\n",
    "Now notice that the sum over $N$ is just $N$ times the average, so as we take $N$ to be large, this is just $N$ times the statistical average.  This is useful because we know the statistical properties of the noise:\n",
    "$$\\sum (S_0+{\\rm noise} - S)^2 = N(S_0-S)^2 + N \\sigma^2$$\n",
    "Notice that this is the sum of two positive terms and the answer is minimized when $S=S_0$."
   ]
  },
  {
   "cell_type": "markdown",
   "id": "12013389",
   "metadata": {},
   "source": [
    "So let's see how accurate a measure of $S$ we can make by just minimizing this quantity.  I happen to know that the noise has $\\sigma=1$ so this quantity is equivalent to $\\chi^2$ (otherwise it would be $\\sigma^2 \\times \\chi^2$)."
   ]
  },
  {
   "cell_type": "code",
   "execution_count": 15,
   "id": "4e398e49",
   "metadata": {},
   "outputs": [],
   "source": [
    "data_ref=time_data(10000)\n",
    "def chisqr(S):\n",
    "    return ((data_ref-S)**2).sum()"
   ]
  },
  {
   "cell_type": "code",
   "execution_count": 16,
   "id": "e76092db",
   "metadata": {},
   "outputs": [
    {
     "data": {
      "text/plain": [
       "[<matplotlib.lines.Line2D at 0x11d52aac0>]"
      ]
     },
     "execution_count": 16,
     "metadata": {},
     "output_type": "execute_result"
    },
    {
     "data": {
      "image/png": "[encoded data removed]",
      "text/plain": [
       "<Figure size 432x288 with 1 Axes>"
      ]
     },
     "metadata": {
      "filenames": {
       "image/png": "/Users/drgreen/Google Drive/IPy/Physics39_book/_build/jupyter_execute/Topic 5 Intro to data analysis_31_1.png"
      },
      "needs_background": "light"
     },
     "output_type": "display_data"
    }
   ],
   "source": [
    "Srange=np.linspace(-1,1,100)\n",
    "chi_out=np.zeros(len(Srange))\n",
    "for i in range(len(Srange)):\n",
    "    chi_out[i]=chisqr(Srange[i])\n",
    "plt.plot(Srange,chi_out)"
   ]
  },
  {
   "cell_type": "markdown",
   "id": "ce5ede35",
   "metadata": {},
   "source": [
    "Given what we know about equation solving, we could find this minimum ourselves.  However, finding minimima or maxima rapidly becomes a hard problem, so we are going to make our life easier by using a built in minimization tool:"
   ]
  },
  {
   "cell_type": "code",
   "execution_count": 17,
   "id": "a601e0a0",
   "metadata": {},
   "outputs": [],
   "source": [
    "from scipy.optimize import minimize"
   ]
  },
  {
   "cell_type": "code",
   "execution_count": 18,
   "id": "e02cd5ac",
   "metadata": {},
   "outputs": [
    {
     "data": {
      "text/plain": [
       "      fun: 10042.139566783122\n",
       " hess_inv: array([[3.33333344e-05]])\n",
       "      jac: array([-0.00012207])\n",
       "  message: 'Desired error not necessarily achieved due to precision loss.'\n",
       "     nfev: 8\n",
       "      nit: 2\n",
       "     njev: 4\n",
       "   status: 2\n",
       "  success: False\n",
       "        x: array([0.09354331])"
      ]
     },
     "execution_count": 18,
     "metadata": {},
     "output_type": "execute_result"
    }
   ],
   "source": [
    "minimize(chisqr,0.4)"
   ]
  },
  {
   "cell_type": "code",
   "execution_count": 19,
   "id": "766a1954",
   "metadata": {},
   "outputs": [
    {
     "data": {
      "text/plain": [
       "      fun: 9922.803558185518\n",
       " hess_inv: array([[5.00000006e-05]])\n",
       "      jac: array([0.])\n",
       "  message: 'Optimization terminated successfully.'\n",
       "     nfev: 8\n",
       "      nit: 2\n",
       "     njev: 4\n",
       "   status: 0\n",
       "  success: True\n",
       "        x: array([-0.01076366])"
      ]
     },
     "execution_count": 19,
     "metadata": {},
     "output_type": "execute_result"
    }
   ],
   "source": [
    "data_ref2=time_data(10000,S=0)\n",
    "minimize(lambda x:((data_ref2-x)**2).sum(),0.4)"
   ]
  },
  {
   "cell_type": "markdown",
   "id": "3cf093cd",
   "metadata": {},
   "source": [
    "Minimize works more or less like our Newton solver (at this level): it takes a function and an initial point and finds a nearby point where the function is minimized (presumably where the derivative vanishes).  \n",
    "\n",
    "Using this insight, we see that minimizing this function does a pretty good job of finding the correct value of $S$.  When we put in $S_0=0.1$ we measured $S=0.0916426$ and when we put $S_0=0$ we measured $S=0.02035976$.  In a future class, we will talk about how to give this measurements error-bars."
   ]
  },
  {
   "cell_type": "markdown",
   "id": "ab47359f",
   "metadata": {},
   "source": [
    "## Linear Regression"
   ]
  },
  {
   "cell_type": "markdown",
   "id": "2bb2f0e4",
   "metadata": {},
   "source": [
    "The natural next step is to fit a line to the data that we uploaded from a file.  This is a thing one typically does as a first guess given data that we don't totally understand: a line has enough freedom to capture some overall behavior, but is sufficiently simple that we aren't going to overfit (i.e. the function is just finding patterns in the noise). "
   ]
  },
  {
   "cell_type": "markdown",
   "id": "2cd81a0e",
   "metadata": {},
   "source": [
    "There are lots of build in functions that will give you a best fit line.  For example:"
   ]
  },
  {
   "cell_type": "code",
   "execution_count": 20,
   "id": "2c0204f7",
   "metadata": {},
   "outputs": [
    {
     "name": "stdout",
     "output_type": "stream",
     "text": [
      "0.044053980142284774 -0.17318253969528752 0.10331235714633374 0.30636705556359395 0.04284396708900212\n"
     ]
    },
    {
     "data": {
      "text/plain": [
       "LinregressResult(slope=0.044053980142284774, intercept=-0.17318253969528752, rvalue=0.10331235714633374, pvalue=0.30636705556359395, stderr=0.04284396708900212, intercept_stderr=0.26108947495494694)"
      ]
     },
     "execution_count": 20,
     "metadata": {},
     "output_type": "execute_result"
    }
   ],
   "source": [
    "from scipy import stats\n",
    "slope1, intercept1, r_value1, p_value1, std_err1 = stats.linregress(t,d1)\n",
    "print(slope1, intercept1, r_value1, p_value1, std_err1)\n",
    "stats.linregress(t,d1)"
   ]
  },
  {
   "cell_type": "code",
   "execution_count": 21,
   "id": "36a1e601",
   "metadata": {},
   "outputs": [],
   "source": [
    "slope2, intercept2, r_value2, p_value2, std_err2 = stats.linregress(t,d2)\n",
    "slope3, intercept3, r_value3, p_value3, std_err3 = stats.linregress(t,d3)"
   ]
  },
  {
   "cell_type": "markdown",
   "id": "aba6515a",
   "metadata": {},
   "source": [
    "What most such algorithms are doing is the same as what we did above, but now where we assume that $${\\rm data} = a t + b + {\\rm noise}$$ where $t$ is time, $a$ and $b$ are constants.  Following what we did before, you guess that if you calculate  $$\\sum ({\\rm data}-a t - b)^2$$\n",
    "you can minimize with respect to $a$ and $b$ to find your \"best fit\" line."
   ]
  },
  {
   "cell_type": "code",
   "execution_count": 22,
   "id": "5eb31447",
   "metadata": {},
   "outputs": [
    {
     "data": {
      "text/plain": [
       "      fun: 9922.803558185518\n",
       " hess_inv: array([[5.00000006e-05]])\n",
       "      jac: array([0.])\n",
       "  message: 'Optimization terminated successfully.'\n",
       "     nfev: 8\n",
       "      nit: 2\n",
       "     njev: 4\n",
       "   status: 0\n",
       "  success: True\n",
       "        x: array([-0.01076366])"
      ]
     },
     "execution_count": 22,
     "metadata": {},
     "output_type": "execute_result"
    }
   ],
   "source": [
    "minimize(lambda x:((data_ref2-x)**2).sum(),0.4)"
   ]
  },
  {
   "cell_type": "code",
   "execution_count": 23,
   "id": "067a5dde",
   "metadata": {},
   "outputs": [
    {
     "data": {
      "text/plain": [
       "array([ 0.04405392, -0.17318235])"
      ]
     },
     "execution_count": 23,
     "metadata": {},
     "output_type": "execute_result"
    }
   ],
   "source": [
    "minimize(lambda X:((d1-X[0]*t-X[1]*np.ones(len(t)))**2).sum(),np.array([0.1,0.1]),method='Nelder-Mead', tol=1e-6)['x']"
   ]
  },
  {
   "cell_type": "code",
   "execution_count": 24,
   "id": "b1db639e",
   "metadata": {},
   "outputs": [
    {
     "data": {
      "text/plain": [
       "(0.044053980142284774, -0.17318253969528752)"
      ]
     },
     "execution_count": 24,
     "metadata": {},
     "output_type": "execute_result"
    }
   ],
   "source": [
    "slope1, intercept1"
   ]
  },
  {
   "cell_type": "code",
   "execution_count": 25,
   "id": "817ed0ef",
   "metadata": {},
   "outputs": [
    {
     "data": {
      "text/plain": [
       "array([0.06501928, 0.11842078])"
      ]
     },
     "execution_count": 25,
     "metadata": {},
     "output_type": "execute_result"
    }
   ],
   "source": [
    "minimize(lambda X:((d2-X[0]*t-X[1]*np.ones(len(t)))**2).sum(),np.array([0.1,0.1]),method='Nelder-Mead', tol=1e-6)['x']"
   ]
  },
  {
   "cell_type": "code",
   "execution_count": 26,
   "id": "ee0a7e19",
   "metadata": {},
   "outputs": [
    {
     "data": {
      "text/plain": [
       "(0.0650193686177917, 0.11842051937262404)"
      ]
     },
     "execution_count": 26,
     "metadata": {},
     "output_type": "execute_result"
    }
   ],
   "source": [
    "slope2, intercept2"
   ]
  },
  {
   "cell_type": "code",
   "execution_count": 27,
   "id": "8d9454ee",
   "metadata": {},
   "outputs": [
    {
     "data": {
      "text/plain": [
       "array([ 0.73878142, -1.35719998])"
      ]
     },
     "execution_count": 27,
     "metadata": {},
     "output_type": "execute_result"
    }
   ],
   "source": [
    "minimize(lambda X:((d3-X[0]*t-X[1]*np.ones(len(t)))**2).sum(),np.array([0.1,0.1]),method='Nelder-Mead', tol=1e-6)['x']"
   ]
  },
  {
   "cell_type": "code",
   "execution_count": 28,
   "id": "f67f3d9b",
   "metadata": {},
   "outputs": [
    {
     "data": {
      "text/plain": [
       "(0.7387814055506847, -1.3571997755399319)"
      ]
     },
     "execution_count": 28,
     "metadata": {},
     "output_type": "execute_result"
    }
   ],
   "source": [
    "slope3, intercept3"
   ]
  },
  {
   "cell_type": "markdown",
   "id": "aef9e8a1",
   "metadata": {},
   "source": [
    "We see that our minimization procedure is reproducing the linear regression results, pretty close to exactly.  However, this does not guarantee that we have a good fit to the data. To see how well we are doing we are going to plot the data vs the best fit line, and also a histogram of our error:"
   ]
  },
  {
   "cell_type": "code",
   "execution_count": 29,
   "id": "111dbf5d",
   "metadata": {},
   "outputs": [
    {
     "data": {
      "image/png": "[encoded data removed]",
      "text/plain": [
       "<Figure size 864x864 with 9 Axes>"
      ]
     },
     "metadata": {
      "filenames": {
       "image/png": "/Users/drgreen/Google Drive/IPy/Physics39_book/_build/jupyter_execute/Topic 5 Intro to data analysis_51_0.png"
      },
      "needs_background": "light"
     },
     "output_type": "display_data"
    }
   ],
   "source": [
    "fig_h,ax_h=plt.subplots(figsize=(12,12),ncols=3,nrows=3)\n",
    "ax_h[0,0].scatter(t,d1)\n",
    "ax_h[0,0].scatter(t,slope1*t+intercept1)\n",
    "ax_h[0,1].scatter(t,d2)\n",
    "ax_h[0,1].scatter(t,slope2*t+intercept2)\n",
    "ax_h[0,2].scatter(t,d3)\n",
    "ax_h[0,2].scatter(t,slope3*t+intercept3)\n",
    "ax_h[1,0].hist(d1-slope1*t-intercept1,bins=20)\n",
    "ax_h[1,1].hist(d2-slope2*t-intercept2,bins=20)\n",
    "ax_h[1,2].hist(d3-slope3*t-intercept3,bins=20)\n",
    "ax_h[2,0].scatter(t,d1-slope1*t-intercept1)\n",
    "ax_h[2,1].scatter(t,d2-slope2*t-intercept2)\n",
    "ax_h[2,2].scatter(t,d3-slope3*t-intercept3)\n",
    "plt.show()"
   ]
  },
  {
   "cell_type": "markdown",
   "id": "672cd0fb",
   "metadata": {},
   "source": [
    "These plots look pretty good.  What about the $\\chi^2$ after removing the best fit line: "
   ]
  },
  {
   "cell_type": "code",
   "execution_count": 30,
   "id": "5f02789b",
   "metadata": {},
   "outputs": [
    {
     "data": {
      "text/plain": [
       "(123.878341340528, 114.2267169116914, 124.2774840597678)"
      ]
     },
     "execution_count": 30,
     "metadata": {},
     "output_type": "execute_result"
    }
   ],
   "source": [
    "((d1-slope1*t-intercept1)**2).sum(),((d2-slope2*t-intercept2)**2).sum(),((d3-slope3*t-intercept3)**2).sum()"
   ]
  },
  {
   "cell_type": "code",
   "execution_count": 31,
   "id": "b6b2036d",
   "metadata": {},
   "outputs": [
    {
     "data": {
      "text/plain": [
       "(125.69249389635905, 139.79811466358296, 1232.430424286052)"
      ]
     },
     "execution_count": 31,
     "metadata": {},
     "output_type": "execute_result"
    }
   ],
   "source": [
    "(d1**2).sum(),(d2**2).sum(),(d3**2).sum()"
   ]
  },
  {
   "cell_type": "markdown",
   "id": "0252da0b",
   "metadata": {},
   "source": [
    "At first sight, everything looks fine.  Interestingly, not all the data was made with a straight line.  The first two, d1 and d2 were, but d3 was actually made with a parabola:"
   ]
  },
  {
   "cell_type": "code",
   "execution_count": 32,
   "id": "3d214c28",
   "metadata": {},
   "outputs": [
    {
     "data": {
      "text/plain": [
       "<matplotlib.collections.PathCollection at 0x11c9750a0>"
      ]
     },
     "execution_count": 32,
     "metadata": {},
     "output_type": "execute_result"
    },
    {
     "data": {
      "image/png": "[encoded data removed]",
      "text/plain": [
       "<Figure size 432x288 with 1 Axes>"
      ]
     },
     "metadata": {
      "filenames": {
       "image/png": "/Users/drgreen/Google Drive/IPy/Physics39_book/_build/jupyter_execute/Topic 5 Intro to data analysis_56_1.png"
      },
      "needs_background": "light"
     },
     "output_type": "display_data"
    }
   ],
   "source": [
    "plt.plot(t,slope3*t+intercept3)\n",
    "plt.plot(t,0.07*t**2)\n",
    "plt.scatter(t,d3)"
   ]
  },
  {
   "cell_type": "code",
   "execution_count": 33,
   "id": "6b400c83",
   "metadata": {},
   "outputs": [
    {
     "data": {
      "text/plain": [
       "107.98045329875646"
      ]
     },
     "execution_count": 33,
     "metadata": {},
     "output_type": "execute_result"
    }
   ],
   "source": [
    "((d3-0.07*t**2)**2).sum()"
   ]
  },
  {
   "cell_type": "markdown",
   "id": "66da80db",
   "metadata": {},
   "source": [
    "## More general $\\chi^2$ minimization"
   ]
  },
  {
   "cell_type": "markdown",
   "id": "65dfd15a",
   "metadata": {},
   "source": [
    "We can now see that pattern for finding a set of best fit parameters for any model given the data. Suppose with think our signal is described by a model $S(t; \\vec X)$ where $\\vec X$ is a list of parameters decribing the model.  Now we caculate $$ \\sum (data-S(t;\\vec X))^2$$ and we find the minimum in terms of the components of $X$.  \n",
    "\n",
    "For example, we can add allow our data to be modelled by a parabola instead of just a line as follows:"
   ]
  },
  {
   "cell_type": "code",
   "execution_count": 34,
   "id": "1b19b8a7",
   "metadata": {},
   "outputs": [
    {
     "data": {
      "text/plain": [
       "array([ 0.06909539, -0.02126793,  0.25711986])"
      ]
     },
     "execution_count": 34,
     "metadata": {},
     "output_type": "execute_result"
    }
   ],
   "source": [
    "minimize(lambda X:((d3-X[0]*t**2-X[1]*t-X[2]*np.ones(len(t)))**2).sum(),np.array([0.1,0.1,0.1]),method='Nelder-Mead', tol=1e-6)['x']"
   ]
  },
  {
   "cell_type": "markdown",
   "id": "7deca122",
   "metadata": {},
   "source": [
    "For simple models like this one, this is a relatively straightforward minimization problem: after adding up all the data, we have quadratic polynomial in a small number of variables.  However, for more complicated models (and data) finding the minimum can be extremely difficult."
   ]
  },
  {
   "cell_type": "code",
   "execution_count": 35,
   "id": "7f6ba2e7",
   "metadata": {},
   "outputs": [],
   "source": [
    "def model(X,n=8):\n",
    "    model=np.zeros(len(t))\n",
    "    for i in range(n):\n",
    "        model+=X[i]*t**i\n",
    "    return model\n",
    "def g(X,n=8):\n",
    "    return ((d3-model(X,n))**2).sum()"
   ]
  },
  {
   "cell_type": "code",
   "execution_count": 36,
   "id": "a506adbf",
   "metadata": {},
   "outputs": [
    {
     "data": {
      "text/plain": [
       "9831016539991.152"
      ]
     },
     "execution_count": 36,
     "metadata": {},
     "output_type": "execute_result"
    }
   ],
   "source": [
    "g(0.1*np.ones(8))"
   ]
  },
  {
   "cell_type": "code",
   "execution_count": 37,
   "id": "23fce34c",
   "metadata": {},
   "outputs": [],
   "source": [
    "Xsol=minimize(g,0.1*np.ones(8),method='Nelder-Mead', tol=1e-6)['x']"
   ]
  },
  {
   "cell_type": "code",
   "execution_count": 38,
   "id": "d076ef6a",
   "metadata": {
    "scrolled": true
   },
   "outputs": [
    {
     "data": {
      "text/plain": [
       "<matplotlib.collections.PathCollection at 0x1208345e0>"
      ]
     },
     "execution_count": 38,
     "metadata": {},
     "output_type": "execute_result"
    },
    {
     "data": {
      "image/png": "[encoded data removed]",
      "text/plain": [
       "<Figure size 432x288 with 1 Axes>"
      ]
     },
     "metadata": {
      "filenames": {
       "image/png": "/Users/drgreen/Google Drive/IPy/Physics39_book/_build/jupyter_execute/Topic 5 Intro to data analysis_65_1.png"
      },
      "needs_background": "light"
     },
     "output_type": "display_data"
    }
   ],
   "source": [
    "plt.plot(t,model(Xsol))\n",
    "plt.scatter(t,d3)"
   ]
  },
  {
   "cell_type": "code",
   "execution_count": 39,
   "id": "0d4844dc",
   "metadata": {},
   "outputs": [
    {
     "data": {
      "text/plain": [
       "223.83679406449997"
      ]
     },
     "execution_count": 39,
     "metadata": {},
     "output_type": "execute_result"
    }
   ],
   "source": [
    "g(Xsol)"
   ]
  },
  {
   "cell_type": "markdown",
   "id": "854ebe56",
   "metadata": {},
   "source": [
    "We will see more advanced strategies for dealing with these kinds of higher dimensional problems.  We are really just scratching the surface of an enormous problem - many AI/machine learning techniques boil down to minimizing some nonlinear function of a large number of parameters.  In some cases, it is more or less obvious what it is you want to minimize and all the new ideas correspond to better or faster ways to find the minima."
   ]
  },
  {
   "cell_type": "markdown",
   "id": "c5e020bc",
   "metadata": {},
   "source": [
    "### Saving Data"
   ]
  },
  {
   "cell_type": "markdown",
   "id": "81bbec24",
   "metadata": {},
   "source": [
    "The final thing you might like to do is to write your own data to a file.  Sometimes you do a long calculation and you don't want to have to recaclulate it every time you want to make a figure, for example.\n",
    "\n",
    "The most basic form of writing to a file is the opposite of what we did above"
   ]
  },
  {
   "cell_type": "code",
   "execution_count": 40,
   "id": "ecaff71a",
   "metadata": {},
   "outputs": [],
   "source": [
    "f=open(\"save_data_test.txt\",\"w\") # 'w' means writes (over the existing file), \n",
    "f.write('# here is some preamble\\n')\n",
    "f.write('# here is some more preamble\\n')\n",
    "t=np.linspace(1,10,100)\n",
    "for i in range(100):\n",
    "    f.write(str(t[i])+',')\n",
    "    for j in range(3):\n",
    "        f.write(str(np.random.randn())+',')\n",
    "    f.write('\\n')\n",
    "f.close()"
   ]
  },
  {
   "cell_type": "markdown",
   "id": "36650053",
   "metadata": {},
   "source": [
    "Often you may want to save something that is already in the form of an array or a python friendly object.  There are LOTS of ways to do this (pandas is a popular library with lots of options, pickle is also popular).  Hoever, the key idea is always the same: some library has a way of saving and reading a type of object that is pretty fast.  E.g. numpy has a save option:"
   ]
  },
  {
   "cell_type": "code",
   "execution_count": 41,
   "id": "4b019163",
   "metadata": {},
   "outputs": [],
   "source": [
    "outdata=np.random.randn(100)\n",
    "with open('save_random.npy', 'wb') as f: # wb means write binary\n",
    "    np.save(f,outdata)"
   ]
  },
  {
   "cell_type": "code",
   "execution_count": 42,
   "id": "ffc5ab0e",
   "metadata": {},
   "outputs": [],
   "source": [
    "with open('save_random.npy', 'rb') as f: # rb means read binary\n",
    "    a = np.load(f)"
   ]
  },
  {
   "cell_type": "code",
   "execution_count": 43,
   "id": "25371d2c",
   "metadata": {},
   "outputs": [
    {
     "data": {
      "text/plain": [
       "array([ 7.16596362e-01,  4.45108859e-01,  2.39291571e-01, -2.66231815e-04,\n",
       "       -1.04001886e+00, -3.93236182e-01,  9.87159070e-01, -9.90118697e-02,\n",
       "        1.08744830e+00,  1.42718562e+00, -3.93979642e-01,  5.80174592e-01,\n",
       "       -7.57472322e-01,  1.43118178e+00, -4.04297156e-01,  4.25439649e-02,\n",
       "       -1.30138724e+00, -1.70410408e+00,  4.53650804e-01,  9.53564478e-01,\n",
       "       -1.37426648e+00, -1.79862092e+00, -4.85892965e-01,  5.65988434e-01,\n",
       "        1.02267319e+00, -8.45022571e-01, -2.82027127e-01, -1.16225617e-01,\n",
       "       -1.33279959e-01, -8.87083404e-01, -8.98878328e-01,  1.35847456e+00,\n",
       "       -1.32718609e+00, -6.69590690e-02, -6.01023732e-01, -2.33980102e-01,\n",
       "        1.53825110e-01,  1.48015672e+00,  1.11128904e+00,  5.77238366e-01,\n",
       "       -1.22415977e+00,  3.99693078e-01,  5.13797188e-01,  5.03929418e-01,\n",
       "       -1.11336720e-01,  1.22146652e-01, -2.84495027e-01,  1.13788172e+00,\n",
       "       -2.61078484e-01,  6.95811497e-01, -2.97053444e-01, -1.64838637e+00,\n",
       "        1.36899045e+00, -1.38188017e+00, -5.60325633e-01, -2.50199000e+00,\n",
       "        1.33434259e-01,  1.81848562e+00,  2.36317911e-01,  1.73640630e-02,\n",
       "       -4.93114260e-01,  5.30132386e-01,  6.20634649e-01,  2.51461038e+00,\n",
       "        6.56537271e-01,  5.38965776e-01, -4.00147040e-01, -3.47364631e-01,\n",
       "       -9.68604689e-01, -5.24219013e-01, -1.92047373e-01, -2.99488386e-01,\n",
       "        6.53832128e-01,  3.91170446e-02, -9.26589309e-01, -6.54425552e-01,\n",
       "        5.00989647e-01,  1.08562078e+00, -3.06865257e-01, -1.14031757e+00,\n",
       "       -1.68792810e+00, -1.64694197e+00, -2.40049791e+00, -4.19693726e-01,\n",
       "        1.30846958e+00,  5.34259591e-01,  3.84861534e+00,  3.93769406e-01,\n",
       "        2.60815253e-01,  9.87857258e-01,  5.71819624e-01, -1.64689069e+00,\n",
       "       -2.79954521e+00,  1.40396716e+00, -1.29029331e+00, -9.90717438e-01,\n",
       "        1.00439997e+00, -1.54175462e+00,  1.22523657e-01, -1.93804501e+00])"
      ]
     },
     "execution_count": 43,
     "metadata": {},
     "output_type": "execute_result"
    }
   ],
   "source": [
    "a"
   ]
  },
  {
   "cell_type": "markdown",
   "id": "665c2342",
   "metadata": {},
   "source": [
    "## Summary"
   ]
  },
  {
   "cell_type": "markdown",
   "id": "34f0cea5",
   "metadata": {},
   "source": [
    "We have just started to scratch the surface of how do deal with data.  However, we were able to see the most basic problems in data analysis in some relatively simple form: (1) data cleaning - getting your data stored in a useful way, (2) data visulization - understanding what your data represents, (3) data analysis - separating the signal from the noise, (4) store your work for easy use in the future."
   ]
  },
  {
   "cell_type": "code",
   "execution_count": null,
   "id": "8fbfd572",
   "metadata": {},
   "outputs": [],
   "source": []
  }
 ],
 "metadata": {
  "kernelspec": {
   "display_name": "Python 3 (ipykernel)",
   "language": "python",
   "name": "python3"
  },
  "language_info": {
   "codemirror_mode": {
    "name": "ipython",
    "version": 3
   },
   "file_extension": ".py",
   "mimetype": "text/x-python",
   "name": "python",
   "nbconvert_exporter": "python",
   "pygments_lexer": "ipython3",
   "version": "3.9.7"
  }
 },
 "nbformat": 4,
 "nbformat_minor": 5
}